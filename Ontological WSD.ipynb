{
 "cells": [
  {
   "cell_type": "markdown",
   "metadata": {},
   "source": [
    "## Ontological WSD Systems - Simple Lesk"
   ]
  },
  {
   "cell_type": "code",
   "execution_count": null,
   "metadata": {},
   "outputs": [],
   "source": [
    "import bs4\n",
    "from bs4 import BeautifulSoup\n",
    "import nltk\n",
    "nltk.download('wordnet')\n",
    "nltk.download('stopwords')\n",
    "from nltk.stem import PorterStemmer\n",
    "from nltk.corpus import stopwords\n",
    "porter=PorterStemmer()\n",
    "import re\n",
    "import pandas as pd"
   ]
  },
  {
   "cell_type": "markdown",
   "metadata": {},
   "source": [
    "Loading the files into environment:"
   ]
  },
  {
   "cell_type": "code",
   "execution_count": null,
   "metadata": {},
   "outputs": [],
   "source": [
    "infile = open(\"data/dictionary.xml\",\"r\")\n",
    "train = open(\"data/train.data\",\"r\")\n",
    "test = open(\"data/test.data\",\"r\")\n",
    "validate = open(\"data/validate.data\",\"r\")"
   ]
  },
  {
   "cell_type": "markdown",
   "metadata": {},
   "source": [
    "Reading dictionary xmlfile using beautifulsoup:"
   ]
  },
  {
   "cell_type": "code",
   "execution_count": null,
   "metadata": {},
   "outputs": [],
   "source": [
    "soup = BeautifulSoup(infile,'xml')"
   ]
  },
  {
   "cell_type": "markdown",
   "metadata": {},
   "source": [
    "Creating dictionary with key as words and value as meaning, i.e. gloss:"
   ]
  },
  {
   "cell_type": "code",
   "execution_count": null,
   "metadata": {},
   "outputs": [],
   "source": [
    "dict_gloss=dict()\n",
    "for i in soup.find_all(\"lexelt\"): \n",
    "    x=(i.get('item'))\n",
    "    for j in i.find_all(\"sense\"):  \n",
    "        z = j.get('id')\n",
    "        y=(j.get('gloss'))\n",
    "        dict_gloss.setdefault(x,[]).append(y) "
   ]
  },
  {
   "cell_type": "markdown",
   "metadata": {},
   "source": [
    "Creating dictionary with key as words and value as examples:"
   ]
  },
  {
   "cell_type": "code",
   "execution_count": null,
   "metadata": {},
   "outputs": [],
   "source": [
    "dict_eg=dict()\n",
    "for i in soup.find_all(\"lexelt\"): \n",
    "    x=(i.get('item'))\n",
    "    for j in i.find_all(\"sense\"):  \n",
    "        y=(j.get('examples'))\n",
    "        dict_eg.setdefault(x,[]).append(y)"
   ]
  },
  {
   "cell_type": "markdown",
   "metadata": {},
   "source": [
    "Reading list with all the training data:"
   ]
  },
  {
   "cell_type": "code",
   "execution_count": null,
   "metadata": {},
   "outputs": [],
   "source": [
    "nw_train=train\n",
    "train_List = [line.split('\\n') for line in nw_train]"
   ]
  },
  {
   "cell_type": "markdown",
   "metadata": {},
   "source": [
    "Defining funtion to get the word and it's sense from training data:"
   ]
  },
  {
   "cell_type": "code",
   "execution_count": null,
   "metadata": {},
   "outputs": [],
   "source": [
    "def get_trainWord(inpList):\n",
    "    word=re.sub(r'[^a-zA-Z\\.]','',(str((inpList)).split(\"|\"))[0])\n",
    "    word_sense=re.sub(r'[^\\d]','',(str((inpList)).split(\"|\"))[1])\n",
    "    return word,word_sense"
   ]
  },
  {
   "cell_type": "markdown",
   "metadata": {},
   "source": [
    "Cleaning and pre-processing steps:\n",
    "Removing stop words (We have used built-in NLTK module for removing stop words).\n",
    "Stemming and lemmatization will also be done here."
   ]
  },
  {
   "cell_type": "code",
   "execution_count": null,
   "metadata": {},
   "outputs": [],
   "source": [
    "ad_s=('i','I','my','me','mine') # creating custom stop words to be removed\n",
    "stopwords=nltk.corpus.stopwords.words('english')\n",
    "stopwords.append(ad_s)\n",
    "\n",
    "def clean_up(inp):\n",
    "    clean_dt=[]\n",
    "    for f in str(inp).split(\" \"):\n",
    "        w=re.sub(r'[^a-zA-Z\\.\\%%]','', f)\n",
    "        w=w.lower()\n",
    "        if w not in stopwords:\n",
    "            if w != '':\n",
    "                w = porter.stem(w)\n",
    "                clean_dt.append(w)\n",
    "    return clean_dt"
   ]
  },
  {
   "cell_type": "markdown",
   "metadata": {},
   "source": [
    "Creating dataframes to store the predicted output:"
   ]
  },
  {
   "cell_type": "code",
   "execution_count": null,
   "metadata": {},
   "outputs": [],
   "source": [
    "df_predict=pd.DataFrame(columns=['Given','Predicted'])\n",
    "df_predict_Eg=pd.DataFrame(columns=('Given','Predicted'))\n",
    "df_predict_Gloss=pd.DataFrame(columns=('Given','Predicted'))"
   ]
  },
  {
   "cell_type": "markdown",
   "metadata": {},
   "source": [
    "#### Model 1 - Predicting senses for each training words using gloss and example"
   ]
  },
  {
   "cell_type": "code",
   "execution_count": 174,
   "metadata": {},
   "outputs": [
    {
     "name": "stdout",
     "output_type": "stream",
     "text": [
      "            Given   Predicted\n",
      "0      affect.v.1  affect.v.0\n",
      "1      affect.v.1  affect.v.1\n",
      "2      affect.v.1  affect.v.2\n",
      "3      affect.v.1  affect.v.0\n",
      "4      affect.v.1  affect.v.1\n",
      "5      affect.v.1  affect.v.1\n",
      "6      affect.v.1  affect.v.0\n",
      "7      affect.v.1  affect.v.2\n",
      "8      affect.v.1  affect.v.0\n",
      "9      affect.v.1  affect.v.0\n",
      "10     affect.v.1  affect.v.0\n",
      "11     affect.v.1  affect.v.0\n",
      "12     affect.v.1  affect.v.0\n",
      "13     affect.v.1  affect.v.0\n",
      "14     affect.v.1  affect.v.2\n",
      "15     affect.v.1  affect.v.0\n",
      "16     affect.v.1  affect.v.0\n",
      "17     affect.v.1  affect.v.0\n",
      "18     affect.v.1  affect.v.0\n",
      "19     affect.v.1  affect.v.1\n",
      "20     affect.v.1  affect.v.0\n",
      "21     affect.v.1  affect.v.0\n",
      "22     affect.v.1  affect.v.1\n",
      "23     affect.v.1  affect.v.0\n",
      "24     affect.v.1  affect.v.0\n",
      "25     affect.v.1  affect.v.1\n",
      "26     affect.v.1  affect.v.1\n",
      "27     affect.v.1  affect.v.0\n",
      "28     affect.v.1  affect.v.0\n",
      "29     affect.v.1  affect.v.0\n",
      "...           ...         ...\n",
      "22251    work.v.1    work.v.2\n",
      "22252    work.v.1    work.v.7\n",
      "22253    work.v.8    work.v.3\n",
      "22254    work.v.1    work.v.1\n",
      "22255    work.v.1    work.v.0\n",
      "22256    work.v.1    work.v.4\n",
      "22257    work.v.1    work.v.2\n",
      "22258    work.v.1    work.v.8\n",
      "22259    work.v.1    work.v.0\n",
      "22260    work.v.1    work.v.0\n",
      "22261    work.v.1    work.v.0\n",
      "22262    work.v.1    work.v.1\n",
      "22263    work.v.1    work.v.4\n",
      "22264    work.v.1    work.v.0\n",
      "22265    work.v.9    work.v.8\n",
      "22266    work.v.1    work.v.0\n",
      "22267    work.v.1    work.v.0\n",
      "22268    work.v.1    work.v.7\n",
      "22269    work.v.1    work.v.7\n",
      "22270    work.v.1    work.v.2\n",
      "22271    work.v.1    work.v.7\n",
      "22272    work.v.1    work.v.7\n",
      "22273    work.v.2    work.v.2\n",
      "22274    work.v.1    work.v.0\n",
      "22275    work.v.1    work.v.0\n",
      "22276    work.v.1    work.v.3\n",
      "22277    work.v.1    work.v.3\n",
      "22278    work.v.1    work.v.3\n",
      "22279    work.v.1    work.v.3\n",
      "22280    work.v.9    work.v.0\n",
      "\n",
      "[22281 rows x 2 columns]\n"
     ]
    }
   ],
   "source": [
    "cnt=0\n",
    "for each_entry in train_List:\n",
    "    w,ws=get_trainWord(each_entry) \n",
    "    clean_entry=(clean_up(each_entry))\n",
    "    p=0\n",
    "    max_ov=0\n",
    "    given=w+\".\"+str(ws)\n",
    "    for i in range(0,len(dict_gloss[w])):\n",
    "        \n",
    "        ov= set(clean_up(dict_gloss[w][i])).intersection(clean_entry)\n",
    "        ov1=set(clean_up( dict_eg[w][i])).intersection(clean_entry)\n",
    "        nov=len(ov)+len(ov1)\n",
    "        if nov > max_ov:\n",
    "            max_ov=nov\n",
    "            p=i\n",
    "    predicted=w+\".\"+str(p)\n",
    "    \n",
    "    #storing in python data frame\n",
    "    df_predict.loc[cnt]=given,predicted\n",
    "    cnt+=1\n",
    "\n",
    "print df_predict"
   ]
  },
  {
   "cell_type": "code",
   "execution_count": 145,
   "metadata": {},
   "outputs": [],
   "source": [
    "df_predict.to_csv('OntologicalModel1.csv') # Exporting to csv"
   ]
  },
  {
   "cell_type": "markdown",
   "metadata": {},
   "source": [
    "#### Model 2 - Predicting senses for each training word using only gloss from dictionary"
   ]
  },
  {
   "cell_type": "code",
   "execution_count": null,
   "metadata": {
    "scrolled": true
   },
   "outputs": [],
   "source": [
    "cnt=0\n",
    "for each_entry in train_List:\n",
    "    w,ws=get_trainWord(each_entry) \n",
    "    clean_entry=(clean_up(each_entry))\n",
    "    p=0\n",
    "    max_ov=0\n",
    "    given=w+\".\"+str(ws)\n",
    "    for i in range(0,len(dict_gloss[w])):\n",
    "        \n",
    "        ov= set(clean_up(dict_gloss[w][i])).intersection(clean_entry)\n",
    "        nov=len(ov)\n",
    "        if nov > max_ov:\n",
    "            max_ov=nov\n",
    "            p=i\n",
    "    predicted=w+\".\"+str(p)\n",
    "    \n",
    "    #store in python data frame\n",
    "    df_predict_Gloss.loc[cnt]=given,predicted\n",
    "    cnt+=1"
   ]
  },
  {
   "cell_type": "code",
   "execution_count": 196,
   "metadata": {},
   "outputs": [
    {
     "name": "stdout",
     "output_type": "stream",
     "text": [
      "        Given   Predicted\n",
      "0  affect.v.1  affect.v.0\n",
      "1  affect.v.1  affect.v.0\n",
      "2  affect.v.1  affect.v.2\n",
      "3  affect.v.1  affect.v.0\n",
      "4  affect.v.1  affect.v.0\n"
     ]
    }
   ],
   "source": [
    "print df_predict_Gloss.head()"
   ]
  },
  {
   "cell_type": "code",
   "execution_count": 146,
   "metadata": {},
   "outputs": [],
   "source": [
    "df_predict_Gloss.to_csv('OntologicalModel2.csv') # Exporting to csv"
   ]
  },
  {
   "cell_type": "markdown",
   "metadata": {},
   "source": [
    "#### Model 3 - Predicting senses for each training word using only examples of dictionary"
   ]
  },
  {
   "cell_type": "code",
   "execution_count": null,
   "metadata": {},
   "outputs": [],
   "source": [
    "cnt=0\n",
    "\n",
    "for each_entry in train_List:\n",
    "    w,ws=get_trainWord(each_entry) \n",
    "    clean_entry=(clean_up(each_entry))\n",
    "    p=0\n",
    "    max_ov=0\n",
    "    given=w+\".\"+str(ws)\n",
    "    for i in range(0,len(dict_gloss[w])):\n",
    "        \n",
    "        ov1=set(clean_up( dict_eg[w][i])).intersection(clean_entry)\n",
    "        nov=len(ov1)\n",
    "        if nov > max_ov:\n",
    "            max_ov=nov\n",
    "            p=i\n",
    "    predicted=w+\".\"+str(p)\n",
    "    \n",
    "    #store in python data frame\n",
    "    df_predict_Eg.loc[cnt]=given,predicted\n",
    "    cnt+=1\n",
    "print df_predict_Eg"
   ]
  },
  {
   "cell_type": "code",
   "execution_count": 197,
   "metadata": {},
   "outputs": [
    {
     "name": "stdout",
     "output_type": "stream",
     "text": [
      "        Given   Predicted\n",
      "0  affect.v.1  affect.v.0\n",
      "1  affect.v.1  affect.v.1\n",
      "2  affect.v.1  affect.v.0\n",
      "3  affect.v.1  affect.v.0\n",
      "4  affect.v.1  affect.v.1\n"
     ]
    }
   ],
   "source": [
    "print df_predict_Eg.head()"
   ]
  },
  {
   "cell_type": "code",
   "execution_count": 147,
   "metadata": {},
   "outputs": [],
   "source": [
    "df_predict_Eg.to_csv('OntologicalModel3.csv') # Exporting to csv"
   ]
  },
  {
   "cell_type": "markdown",
   "metadata": {},
   "source": [
    "#### Testing Model 1 on validation data"
   ]
  },
  {
   "cell_type": "code",
   "execution_count": 259,
   "metadata": {},
   "outputs": [
    {
     "name": "stdout",
     "output_type": "stream",
     "text": [
      "            Given     Predicted\n",
      "0     capital.n.1   capital.n.3\n",
      "1     capital.n.1   capital.n.3\n",
      "2     capital.n.1   capital.n.0\n",
      "3     capital.n.1   capital.n.0\n",
      "4     capital.n.1   capital.n.0\n",
      "5     capital.n.1   capital.n.0\n",
      "6     capital.n.1   capital.n.3\n",
      "7     capital.n.1   capital.n.0\n",
      "8     capital.n.1   capital.n.0\n",
      "9     capital.n.1   capital.n.0\n",
      "10    capital.n.1   capital.n.1\n",
      "11   exchange.n.3  exchange.n.2\n",
      "12   exchange.n.3  exchange.n.2\n",
      "13   exchange.n.5  exchange.n.0\n",
      "14   exchange.n.3  exchange.n.2\n",
      "15   exchange.n.3  exchange.n.2\n",
      "16   exchange.n.3  exchange.n.0\n",
      "17   exchange.n.3  exchange.n.2\n",
      "18   exchange.n.3  exchange.n.2\n",
      "19   exchange.n.3  exchange.n.2\n",
      "20   exchange.n.1  exchange.n.2\n",
      "21   exchange.n.1  exchange.n.1\n",
      "22   exchange.n.5  exchange.n.0\n",
      "23     remove.v.1    remove.v.0\n",
      "24     remove.v.1    remove.v.0\n",
      "25     remove.v.1    remove.v.0\n",
      "26       feel.v.1      feel.v.0\n",
      "27       feel.v.3      feel.v.0\n",
      "28       feel.v.1      feel.v.0\n",
      "29       feel.v.1      feel.v.1\n",
      "..            ...           ...\n",
      "903     plant.n.1     plant.n.0\n",
      "904     plant.n.1     plant.n.0\n",
      "905     plant.n.1     plant.n.1\n",
      "906     plant.n.1     plant.n.0\n",
      "907     plant.n.1     plant.n.0\n",
      "908     plant.n.1     plant.n.0\n",
      "909     plant.n.1     plant.n.0\n",
      "910     plant.n.1     plant.n.0\n",
      "911     plant.n.1     plant.n.1\n",
      "912     plant.n.1     plant.n.0\n",
      "913     plant.n.1     plant.n.0\n",
      "914     plant.n.1     plant.n.0\n",
      "915      keep.v.1      keep.v.7\n",
      "916      keep.v.1      keep.v.5\n",
      "917      keep.v.1      keep.v.7\n",
      "918      keep.v.8      keep.v.7\n",
      "919      keep.v.1      keep.v.7\n",
      "920      keep.v.1      keep.v.7\n",
      "921      keep.v.1      keep.v.7\n",
      "922      keep.v.3      keep.v.7\n",
      "923      keep.v.1      keep.v.5\n",
      "924      keep.v.1      keep.v.7\n",
      "925      keep.v.5      keep.v.7\n",
      "926      keep.v.1      keep.v.0\n",
      "927      keep.v.1      keep.v.7\n",
      "928      keep.v.1      keep.v.7\n",
      "929      keep.v.4      keep.v.1\n",
      "930      keep.v.1      keep.v.7\n",
      "931  maintain.v.1  maintain.v.0\n",
      "932  maintain.v.1  maintain.v.0\n",
      "\n",
      "[933 rows x 2 columns]\n"
     ]
    }
   ],
   "source": [
    "# Reading list with all the validation data\n",
    "nw_validate=validate\n",
    "validate_List = [line.split('\\n') for line in nw_validate]\n",
    "\n",
    "df_predict_validate = pd.DataFrame(columns=('Given','Predicted'))\n",
    "\n",
    "cnt=0\n",
    "for each_entry in validate_List:\n",
    "    w,ws=get_trainWord(each_entry) \n",
    "    clean_entry=(clean_up(each_entry))\n",
    "    p=0\n",
    "    max_ov=0\n",
    "    given=w+\".\"+str(ws)\n",
    "    for i in range(0,len(dict_gloss[w])):\n",
    "        \n",
    "        ov= set(clean_up(dict_gloss[w][i])).intersection(clean_entry)\n",
    "        ov1=set(clean_up(dict_eg[w][i])).intersection(clean_entry)\n",
    "        nov=len(ov)+len(ov1)\n",
    "        if nov > max_ov:\n",
    "            max_ov=nov\n",
    "            p=i\n",
    "    predicted=w+\".\"+str(p)\n",
    "    \n",
    "    #store in python data frame\n",
    "    df_predict_validate.loc[cnt]=given,predicted\n",
    "    cnt+=1\n",
    "\n",
    "print df_predict_validate"
   ]
  },
  {
   "cell_type": "code",
   "execution_count": null,
   "metadata": {},
   "outputs": [],
   "source": [
    "df_predict_validate.to_csv('OntologicalModel_ValidatePrediction.csv') # Exporting to csv"
   ]
  },
  {
   "cell_type": "markdown",
   "metadata": {},
   "source": [
    "Defining function to calculate accuracy:"
   ]
  },
  {
   "cell_type": "code",
   "execution_count": 287,
   "metadata": {},
   "outputs": [
    {
     "name": "stdout",
     "output_type": "stream",
     "text": [
      "{model3: 9.32184372335\n",
      "model2: 6.64691889951\n",
      "model1: 9.88734796463\n",
      "model5: 4.8231511254\n",
      "model4: 7.82422293676}\n"
     ]
    }
   ],
   "source": [
    "accuracies = {}\n",
    "\n",
    "def accuracy(df):\n",
    "    res = (df['Given'] == df['Predicted']).values\n",
    "    return ((res==True).sum()/float(len(res))) * 100  \n",
    "\n",
    "# Finding accuracy on train data and validate data:\n",
    "accuracies['model1'] = accuracy(df_predict)\n",
    "accuracies['model2'] = accuracy(df_predict_Gloss)\n",
    "accuracies['model3'] = accuracy(df_predict_Eg)\n",
    "accuracies['model4'] = accuracy(df_predict_validate)\n",
    "accuracies['model5'] = accuracy(df_predict_validate_CL)\n",
    "\n",
    "print(\"{\" + \"\\n\".join(\"{}: {}\".format(k, v) for k, v in accuracies.items()) + \"}\")"
   ]
  },
  {
   "cell_type": "markdown",
   "metadata": {},
   "source": [
    "Reading list with all the test data:"
   ]
  },
  {
   "cell_type": "code",
   "execution_count": null,
   "metadata": {},
   "outputs": [],
   "source": [
    "nw_test=test\n",
    "test_List = [line.split('\\n') for line in nw_test]"
   ]
  },
  {
   "cell_type": "markdown",
   "metadata": {},
   "source": [
    "#### Prediction on test data to determine word sense using Model 3"
   ]
  },
  {
   "cell_type": "code",
   "execution_count": 236,
   "metadata": {},
   "outputs": [
    {
     "name": "stdout",
     "output_type": "stream",
     "text": [
      "          0            1            2            3            4     \\\n",
      "0    capital.n    capital.n    capital.n    capital.n    capital.n   \n",
      "1  capital.n.1  capital.n.0  capital.n.1  capital.n.1  capital.n.1   \n",
      "\n",
      "          5            6            7            8            9     \\\n",
      "0    capital.n    capital.n    capital.n    capital.n    capital.n   \n",
      "1  capital.n.0  capital.n.0  capital.n.1  capital.n.0  capital.n.3   \n",
      "\n",
      "       ...           3908      3909          3910          3911          3912  \\\n",
      "0      ...         keep.v    keep.v    maintain.v    maintain.v    maintain.v   \n",
      "1      ...       keep.v.7  keep.v.3  maintain.v.2  maintain.v.0  maintain.v.1   \n",
      "\n",
      "           3913          3914          3915          3916          3917  \n",
      "0    maintain.v    maintain.v    maintain.v    maintain.v    maintain.v  \n",
      "1  maintain.v.0  maintain.v.0  maintain.v.0  maintain.v.0  maintain.v.0  \n",
      "\n",
      "[2 rows x 3918 columns]\n"
     ]
    }
   ],
   "source": [
    "# Predicting test data sense for each word using the examples (Model 3)\n",
    "df_test_predict=pd.DataFrame(columns=())\n",
    "\n",
    "cnt=0\n",
    "for each_entry in test_List:\n",
    "    w,ws=get_trainWord(each_entry) \n",
    "    clean_entry=(clean_up(each_entry))\n",
    "    \n",
    "    p=0\n",
    "    max_ov=0\n",
    "    given=w\n",
    "    \n",
    "    if dict_eg[w] != \"\":\n",
    "        for i in range(0,len(dict_eg[w])):\n",
    "            #print(given,dict_gloss[w])\n",
    "\n",
    "            #ov= set(clean_up(dict_gloss[w][i])).intersection(clean_entry)\n",
    "            ov1=set(clean_up(dict_eg[w][i])).intersection(clean_entry)\n",
    "            nov=len(ov1)#+len(ov1)\n",
    "            if nov > max_ov:\n",
    "                max_ov=nov\n",
    "                p=i\n",
    "        predicted=w+\".\"+str(p)\n",
    "\n",
    "        #store in python data frame\n",
    "        if (dict_eg[w]):\n",
    "            df_test_predict[cnt]=given,predicted\n",
    "            cnt+=1\n",
    "        \n",
    "print df_test_predict"
   ]
  },
  {
   "cell_type": "code",
   "execution_count": 148,
   "metadata": {},
   "outputs": [],
   "source": [
    "df_test_predict.to_csv('OntologicalModel_TestPrediction.csv') # Export to csv"
   ]
  },
  {
   "cell_type": "code",
   "execution_count": 198,
   "metadata": {},
   "outputs": [
    {
     "name": "stdout",
     "output_type": "stream",
     "text": [
      "          0            1            2            3            4     \\\n",
      "0    capital.n    capital.n    capital.n    capital.n    capital.n   \n",
      "1  capital.n.1  capital.n.0  capital.n.1  capital.n.0  capital.n.0   \n",
      "\n",
      "          5            6            7            8            9     \\\n",
      "0    capital.n    capital.n    capital.n    capital.n    capital.n   \n",
      "1  capital.n.0  capital.n.0  capital.n.0  capital.n.0  capital.n.0   \n",
      "\n",
      "       ...           3908      3909          3910          3911          3912  \\\n",
      "0      ...         keep.v    keep.v    maintain.v    maintain.v    maintain.v   \n",
      "1      ...       keep.v.0  keep.v.3  maintain.v.1  maintain.v.0  maintain.v.0   \n",
      "\n",
      "           3913          3914          3915          3916          3917  \n",
      "0    maintain.v    maintain.v    maintain.v    maintain.v    maintain.v  \n",
      "1  maintain.v.3  maintain.v.2  maintain.v.0  maintain.v.0  maintain.v.0  \n",
      "\n",
      "[2 rows x 3918 columns]\n"
     ]
    }
   ],
   "source": [
    "print df_test_predict.head()"
   ]
  },
  {
   "cell_type": "markdown",
   "metadata": {},
   "source": [
    "## Ontological WSD Systems - Corpus Lesk"
   ]
  },
  {
   "cell_type": "markdown",
   "metadata": {},
   "source": [
    "Building new dictionary for Corpus Lesk using training data:"
   ]
  },
  {
   "cell_type": "code",
   "execution_count": 191,
   "metadata": {},
   "outputs": [
    {
     "name": "stdout",
     "output_type": "stream",
     "text": [
      "{'begin.v': ['begin.v', u'amend', u'aim', u'skirt', u'suprem', 'court', u'rule', 'threw', u'convict', u'texa', u'flagburn', u'ground', 'freedom', 'speech', u'violat', '.', u'feder', u'research', 'said', u'lungcanc', u'mortal', u'rate', u'peopl', u'year', 'age', 'begun', u'declin', u'particularli', 'white', u'male', '.', u'nation', 'cancer', u'institut', 'also', u'project', u'overal', 'u.s.', u'mortal', u'rate', 'lung', 'cancer', '%%', 'begin', '%%', 'drop', u'sever', u'year', u'cigarett', u'smoke', u'continu', u'abat', '.', 'bush', 'met', 'south', 'korean', u'presid', 'roh', u'indic', 'seoul', u'plan', u'eas', 'trade', u'rule', u'ensur', u'economi', u'becom', 'open', u'industri', u'nation', u'mid', '.', 'bush', u'assur', 'roh', 'u.s.', 'would', 'stand', u'secur', u'commit', 'long', 'threat', 'communist', 'north', 'korea', '.'], 'complain.v': ['complain.v', 'old', 'order', u'act', u'aton', 'sung', 'grunnfeu', u'arapaci', u'love', 'serbantian', 'import', u'enter', u'deliv', 'wellknown', u'invoc', 'god', u'phineoppu', 'whereupon', 'stage', u'quit', u'unexpectedli', u'visit', u'compani', u'wander', 'gorshek', u'priest', u'symbol', 'love', 'lust', u'prudenc', u'gener', u'motor', u'respect', '.', u'accord', 'myth', 'old', 'order', u'vanish', 'stage', 'left', u'reappear', u'extrem', 'stage', 'right', 'director', 'shuz', u'skill', u'sidestep', 'rather', 'gooshey', 'problem', 'stage', u'effect', u'simpli', u'miss', u'arapaci', 'walk', u'across', 'stage', '.', 'night', 'saw', 'rather', u'unpleas', u'situat', u'aros', 'soloist', u'refus', 'approach', 'armadillo', '%%', u'complain', '%%', 'adlib', u'smell', '.', 'caught', u'earli', 'train', 'new', 'york', '.', 'dharma', u'dictionari', 'list', u'highli', u'unusu', u'term', u'use', u'connect', 'eurasian', u'protosenil', u'cult', '.'], 'plant.n': ['plant.n', 'ssangyong', '%', u'domest', 'market', 'sell', u'model', 'year', 'twice', u'mani', 'last', 'year', '.', u'see', u'sale', u'rise', '%', u'unit', 'next', 'year', '.', u'compani', u'plan', 'expand', '%%', 'plant', '%%', u'capac', '%', '.', 'also', u'hope', 'begin', u'produc', u'passeng', 'car', u'base', 'volvo', u'sell', '.', 'hyundai', 'daewoo', 'seem', u'unconcern', 'ssangyong', 'threat', 'kia', u'scrappi', 'no.', 'auto', 'maker', u'sell', u'fourwheeldr', u'vehicl', 'asia', 'unit', '.'], 'need.v': ['need.v', u'thing', 'set', '.', u'wait', 'get', u'thing', 'done', u'month', 'said', '.', 'wo', 'nt', 'live', 'long', 'enough', 'wait', u'besid', 'nt', '%%', 'need', '%%', u'worri', u'plenti', '.', u'discuss', u'academ', '.', 'mr.', 'blatz', u'alreadi', u'take', u'measur', 'shelf', 'kitchen', 'sink', '.'], 'carrier.n': ['carrier.n', 'cost', 'call', 'set', u'origin', 'abc', u'sport', u'exampl', 'cheapest', u'start', u'cent', '.', u'bill', u'includ', 'caller', 'regular', 'phone', 'bill', '.', 'fee', 'local', 'phone', u'compani', u'longdist', '%%', 'carrier', '%%', 'extract', u'cost', u'carri', 'call', u'pass', 'rest', 'money', u'origin', 'must', 'cover', u'advertis', u'cost', '.', 'recent', u'month', u'technolog', u'becom', u'flexibl', u'abl', u'handl', 'much', u'volum', '.', u'caller', u'number', 'would', 'listen', 'talk', 'vote', u'ye', u'call', 'one', 'two', u'number', '.'], 'occur.v': ['occur.v', u'arlen', u'asham', 'hung', 'head', 'said', u'ye', 'sir', '.', 'policeman', u'walk', u'look', 'back', '.', u'happen', 'day', 'two', u'unusu', u'thing', '%%', u'occur', '%%', '.', u'arlen', 'taught', 'new', 'way', 'fun', u'littl', u'privat', 'area', 'told', 'mother', u'tumbl', '.', u'matter', 'exact', u'inform', 'kept', 'one', 'step', 'behind', u'develop', u'consist', 'true', u'principl', '.'], 'state.n': ['state.n', u'word', 'get', 'rid', u'pictur', '.', 'state', u'obliqu', u'note', u'unsaf', u'bank', u'practic', u'ground', u'remov', u'offic', 'director', u'close', u'admonit', 'mr.', 'paul', 'govern', u'accordingli', '.', '%%', 'state', '%%', u'agenc', u'particularli', u'vex', 'learn', u'ruben', 'halfdozen', u'paint', u'list', 'among', 'bank', u'furnitur', u'fixtur', u'actual', u'hang', 'chairman', u'hous', '.', 'mr.', 'paul', u'say', 'one', 'point', u'inde', 'eight', 'nine', u'paint', 'home', 'rest', u'storag', u'sothebi', '.', u'explain', u'mere', u'store', u'paint', 'home', 'display', 'special', u'dehumidifi', u'environ', u'requir', u'safekeep', 'centrust', 'new', u'build', u'readi', '.'], 'announce.v': ['announce.v', u'confront', u'profession', u'gambler', u'booki', 'loan', u'shark', u'gangster', u'thug', 'finger', 'men', u'peopl', u'class', 'even', 'know', u'exist', 'repay', 'husband', u'stagger', u'loss', u'els', u'shudder', 'think', u'someon', 'dear', 'could', 'even', u'associ', u'sinist', 'milieu', '.', 'three', u'differ', u'time', u'turbul', u'marriag', u'strang', u'girl', 'commonest', u'accent', u'telephon', '%%', u'announc', '%%', 'letch', u'sire', 'unborn', 'children', 'deepest', u'matern', u'instinct', 'heart', u'fairli', 'bled', 'thought', u'darl', 'pink', 'white', u'bundl', 'heaven', 'would', u'proudli', 'given', 'husband', '.', 'ah', 'old', u'invari', u'ungal', u'untru', 'retort', u'whenev', u'suggest', u'start', u'famili', '.'], 'care.v': ['care.v', u'unflag', 'effort', u'devot', u'achiev', 'stardom', u'fortun', u'worldrenown', 'wife', 'age', 'young', 'men', u'cast', 'first', 'vote', 'letch', u'proceed', 'neglect', '.', 'never', 'quick', u'studi', 'made', 'attempt', 'learn', u'line', u'mani', 'mile', 'film', u'wast', u'mani', 'scene', u'sometim', u'involv', u'mani', 'thousand', 'fellow', u'thespian', 'taken', u'thirti', u'forti', u'fifti', u'time', u'miss', u'poitrin', 'costar', u'helpmat', 'never', u'learn', 'part', '.', 'time', 'letch', 'went', u'line', 'one', 'patient', u'help', u'apologet', u'indulg', u'outburst', u'tempera', u'profan', u'abus', u'blame', u'other', u'go', u'sulk', u'occas', '%%', 'care', '%%', 'count', u'storm', 'set', 'rest', 'day', '.', u'financ', 'never', u'privileg', 'know', u'exactli', 'much', 'money', 'letch', u'salt', 'away', '.', 'paid', u'littl', 'home', 'food', 'liquor', u'servant', 'even', 'letch', u'bill', 'tailor', u'lo', u'angel', u'athlet', 'club', '.'], 'ask.v': ['ask.v', u'dare', 'demand', 'snoop', u'privat', u'financi', u'record', u'disburs', u'confidenti', u'contract', u'agreement', 'though', 'said', u'histor', 'threehour', 'coasttocoast', 'radio', 'broadcast', 'bought', u'follow', 'father', 'coughlin', u'preempt', u'eddi', 'cantor', 'manhattan', 'merrygoround', 'major', u'bow', u'show', 'man', 'white', u'hous', 'like', 'despot', 'yore', u'insist', u'read', u'diari', u'raid', 'larder', u'ransack', u'lingeri', u'impass', 'plea', 'civil', u'right', u'creat', u'landslid', u'correspond', 'one', 'sponsor', 'even', '%%', u'ask', '%%', u'consid', u'replac', u'eddi', 'cantor', u'comedi', 'hour', u'perman', u'basi', '.', 'quarter', 'could', 'poor', u'defenseless', 'woman', 'expect', u'dictat', 'would', 'even', 'make', 'bold', 'close', u'bank', 'great', 'nation', u'savag', 'barbarian', u'hord', 'red', 'russian', u'commun', u'descend', u'athen', u'mighti', u'metronom', u'sack', u'despoil', u'bolshevist', u'battl', u'cri', 'soak', 'rich'], 'defense.n': ['defense.n', u'honeywel', u'previous', 'said', u'intend', u'reduc', u'hold', u'japanes', 'concern', 'part', u'restructur', 'plan', 'also', u'call', u'reduct', u'depend', u'weapon', u'sale', '.', 'yesterday', 'spokeswoman', 'said', u'compani', u'pleas', u'progress', 'regard', u'hope', u'provid', u'addit', u'detail', 'soon', '.', u'honeywel', 'said', '%%', u'defens', '%%', u'marin', u'system', 'group', u'incur', u'delay', u'ship', u'undisclos', u'contract', 'third', 'quarter', u'result', 'lower', u'oper', 'profit', u'busi', '.', u'overal', u'honeywel', u'report', u'earn', '.', 'million', '.', 'share', 'three', u'month', u'end', 'oct.', u'compar', u'loss', '.', 'million', u'cent', 'share', 'year', 'earlier', '.', u'previou', 'period', u'result', u'includ', 'million', 'pretax', u'charg', u'relat', u'unrecover', 'contract', u'cost', '.', 'million', 'pretax', 'gain', 'real', u'estat', u'sale', '.'], 'avoid.v': ['avoid.v', 'never', 'could', 'fit', 'crowd', 'known', 'still', 'knew', u'admir', 'linda', '.', u'bridg', u'edyth', u'hous', u'card', u'shuffl', 'like', 'wet', 'graham', u'cracker', 'food', u'probabl', 'wet', 'graham', u'cracker', '.', u'manag', u'missionari', 'drive', 'church', 'got', u'book', u'confus', 'old', 'mr.', 'webber', 'eldest', 'elder', 'never', u'donat', 'five', u'dollar', u'anyth', 'cough', 'five', u'hundr', u'dollar', '%%', 'avoid', '%%', 'scandal', u'edyth', u'call', u'bosom', 'church', '.', 'john', 'find', u'miss', u'check', 'money', 'afterward', 'drive', u'actual', u'oversubscrib', 'real', 'bit', 'luck', u'missionari', '.', u'intellig', 'man', 'john', 'must', u'guess', u'everyon', 'thought', u'edyth', 'never', 'let', 'much', 'brave', 'smile', '.'], 'capital.n': ['capital.n', u'lo', u'angel', u'compani', 'union', u'feder', u'save', 'bank', u'subsidiari', 'said', '%', '%', u'convert', u'subordin', u'debentur', 'due', u'tender', u'convers', u'unionf', 'common', 'stock', '.', u'convers', u'increas', 'total', u'equiti', '%%', u'capit', '%%', '.', 'million', 'total', '.', 'million', '.', 'union', u'feder', u'feder', u'insur', u'save', 'bank', '.', 'billion', u'asset', '.'], 'move.n': ['move.n', 'report', u'defens', u'ministri', 'also', u'reject', u'alleg', 'britain', u'cover', u'evid', 'waldheim', u'activ', 'german', u'armi', u'offic', '.', u'intern', 'group', u'approv', 'formal', 'ban', u'ivori', 'trade', u'despit', u'object', 'southern', 'african', u'govern', u'threaten', 'find', u'altern', u'channel', u'sell', u'eleph', u'tusk', '.', '%%', 'move', '%%', u'convent', 'trade', u'endang', u'speci', u'meet', 'switzerland', u'place', u'eleph', u'endangeredspeci', 'list', '.', 'assassin', 'colombia', u'kill', u'feder', u'judg', 'medellin', 'street', '.', u'anonym', 'caller', 'local', 'radio', 'station', 'said', u'cocain', u'traffick', 'slain', u'magistr', u'retali', u'extradit', u'colombian', u'want', 'drug', u'charg', 'u.s.', '.'], 'base.n': ['base.n', 'would', 'nt', 'know', u'spend', u'jillion', u'dollar', 'built', 'new', u'divis', 'new', 'air', u'wing', u'posit', u'ship', u'suppli', 'fight', u'russian', 'iran', u'russian', 'seem', 'lost', 'interest', 'whole', 'subject', '.', u'meanwhil', u'congress', u'cut', 'huge', u'chunk', 'rest', u'defens', 'budget', '.', u'predict', u'navi', u'guy', 'said', 'still', 'need', 'keep', u'armi', u'divis', u'activ', u'duti', 'extra', u'landbas', 'aircraft', 'without', '%%', u'base', '%%', u'armi', u'guy', u'play', u'admir', 'tampa', 'could', 'nt', 'save', 'billion', 'billion', 'year', u'shift', 'stuff', u'reserv', 'save', u'cost', 'thousand', u'bureaucrat', u'abolish', 'central', 'command', u'put', u'respons', 'gulf', 'naval', u'oper', 'back', u'belong', 'afloat', 'task', u'forc', u'command', 'gulf'], 'share.n': ['share.n', 'board', u'reject', u'reduc', 'bid', u'decid', u'explor', u'altern', 'could', 'transform', u'harmoni', u'process', u'adversari', 'one', '.', u'pilot', 'could', 'play', u'hardbal', u'note', 'crucial', 'sale', u'restructur', u'refus', u'fli', u'airplan', '.', 'insist', 'low', 'bid', 'say', '%%', 'share', '%%', 'board', 'might', 'nt', u'abl', 'obtain', 'higher', 'offer', u'bidder', u'bank', 'might', u'hesit', u'financ', u'transact', u'pilot', u'oppos', '.', 'also', 'ual', 'chairman', 'stephen', 'wolf', 'ual', u'execut', u'join', u'pilot', 'bid', 'board', 'might', u'forc', u'exclud', u'deliber', 'order', 'fair', u'bidder', '.', 'could', 'cost', u'chanc', u'influenc', u'outcom', u'perhap', 'join', u'win', 'bidder', '.'], 'contribute.v': ['contribute.v', u'mani', u'shape', u'bathtub', '.', 'son', 'daughter', 'local', u'coupl', u'marri', '.', 'apart', u'misplac', u'modifi', u'headlines', u'journal', '%%', u'contribut', '%%', 'wide', u'varieti', 'comic', u'ambigu', u'editori', u'advertis', 'matter', '.', u'weekli', u'newspap', u'report', 'local', u'romanc', u'coupl', u'marri', 'last', 'saturday', u'thu', u'end', 'friendship', 'began', u'schoolday', '.', 'item', u'letter', 'column', u'newspap', u'renew', u'subscript', u'ad', u'person', 'enjoy', u'newspap', 'much', 'husband', '.'], 'cause.v': ['cause.v', 'pegboard', 'would', 'go', 'would', 'hang', 'hand', u'tool', '.', 'front', 'would', 'workbench', '.', 'old', u'nightmar', '%%', u'caus', '%%', u'mani', u'wake', u'hour', 'came', u'charg', 'time', 'could', 'nt', u'pacifi', u'sleep', 'pill', 'send', 'away', '.', 'world', 'one', 'attach', 'pegboard', 'stone', 'wall', 'one', 'attach', u'anyth', 'stone', 'wall', 'matter'], 'system.n': ['system.n', u'honeywel', u'previous', 'said', u'intend', u'reduc', u'hold', u'japanes', 'concern', 'part', u'restructur', 'plan', 'also', u'call', u'reduct', u'depend', u'weapon', u'sale', '.', 'yesterday', 'spokeswoman', 'said', u'compani', u'pleas', u'progress', 'regard', u'hope', u'provid', u'addit', u'detail', 'soon', '.', u'honeywel', 'said', u'defens', u'marin', '%%', u'system', '%%', 'group', u'incur', u'delay', u'ship', u'undisclos', u'contract', 'third', 'quarter', u'result', 'lower', u'oper', 'profit', u'busi', '.', u'overal', u'honeywel', u'report', u'earn', '.', 'million', '.', 'share', 'three', u'month', u'end', 'oct.', u'compar', u'loss', '.', 'million', u'cent', 'share', 'year', 'earlier', '.', u'previou', 'period', u'result', u'includ', 'million', 'pretax', u'charg', u'relat', u'unrecover', 'contract', u'cost', '.', 'million', 'pretax', 'gain', 'real', u'estat', u'sale', '.'], 'fix.v': ['fix.v', 'could', 'done', 'left', u'undon', u'nobodi', u'realli', 'gave', 'damn', '.', u'busi', 'life', 'done', u'thing', 'done', '.', 'habit', u'becom', '%%', u'fix', '%%', u'year', u'seem', u'futil', u'anyth', 'one', u'wait', '.', u'look', u'lumin', 'dial', 'wrist', 'watch', '.', 'five', u'minut', 'four', '.'], 'point.n': ['point.n', u'skeptic', 'would', u'leav', 'even', 'greater', u'credibl', 'problem', 'return', 'would', 'handicap', 'effort', 'oust', 'board', u'proxi', 'fight', '.', u'meanwhil', 'citicorp', 'chase', 'manhattan', 'corp.', 'two', 'lead', u'lender', 'ual', 'buyout', 'met', u'bank', 'yesterday', u'determin', 'would', u'will', u'financ', 'buyout', 'lower', 'price', '.', u'offici', 'familiar', u'talk', 'said', 'citicorp', u'discuss', u'lower', 'offer', 'share', 'said', 'price', u'talk', '%%', 'point', '%%', u'decis', 'made', '.', 'share', 'group', 'would', 'borrow', '.', 'billion', u'bank', '.', 'first', 'ual', 'deal', u'unravel', 'citibank', 'chase', 'could', 'nt', u'rais', '.', 'billion', '.'], 'enjoy.v': ['enjoy.v', 'apart', u'misplac', u'modifi', u'headlines', u'journal', u'contribut', 'wide', u'varieti', 'comic', u'ambigu', u'editori', u'advertis', 'matter', '.', u'weekli', u'newspap', u'report', 'local', u'romanc', u'coupl', u'marri', 'last', 'saturday', u'thu', u'end', 'friendship', 'began', u'schoolday', '.', 'item', u'letter', 'column', u'newspap', u'renew', u'subscript', u'ad', u'person', '%%', 'enjoy', '%%', u'newspap', 'much', 'husband', '.', u'cater', 'ad', 'read', u'get', u'marri', 'affair', u'complet', u'facil', u'accommod', u'peopl', '.'], 'disclose.v': ['disclose.v', 'said', u'lone', 'type', u'work', 'cellar', 'saw', u'funni', u'thing', u'come', u'crack', 'wall', 'nt', u'nobodi', '.', 'mr.', u'crombi', 'sat', 'wooden', 'box', u'talk', 'order', 'keep', 'mr.', 'blatz', 'mind', u'funni', u'thing', '.', 'time', u'watch', u'care', 'see', 'one', u'attach', u'pegboard', 'stone', u'wall', 'mr.', 'blatz', u'usual', u'stand', 'line', 'vision', u'seem', u'simpl', 'nt', 'like', '%%', u'disclos', '%%', u'ignor', '.', 'mr.', 'blatz', u'put', u'pegboard', u'start', 'workbench', 'mr.', u'crombi', 'told', 'idea', u'panel', 'whole', 'end', 'cellar', '.', 'mr.', 'blatz', u'agre', 'would', u'pretti', '.'], 'turn.v': ['turn.v', u'booki', u'booz', u'babe', 'momma', 'said', u'bluntli', '.', u'repli', 'stung', u'import', 'let', 'hurt', 'make', u'differ', '.', 'ca', 'nt', '%%', 'turn', '%%', 'studio', u'gambl', 'hell', 'saloon', 'said', '.'], 'see.v': ['see.v', 'ghost', 'nt', u'fool', 'knew', 'rdf', 'neither', 'rapid', u'deploy', u'forc', 'even', 'though', 'cost', 'billion', 'billion', 'year', '.', 'mr.', 'carter', u'defeat', 'shah', 'ghost', u'claim', 'credit', 'went', u'presid', 'reagan', 'cap', u'weinberg', '.', '%%', 'saw', '%%', 'firsthand', '.', 'made', u'shoelac', u'danc', 'terror', '.', u'use', 'lay', 'wait', 'cap', u'suddenli', 'leap', 'behind', u'statu', u'marshal', 'onto', 'cap', 'chest', 'grab', 'throat', 'choke', 'till', u'cough', u'addit', 'billion', '.'], 'lead.v': ['lead.v', 'even', 'though', u'alway', u'geniu', u'throw', u'everi', 'role', u'play', 'worth', u'actress', u'expect', 'best', 'work', u'fortun', u'reput', 'livelihood', 'home', 'nation', u'imperil', '.', u'sweep', u'distract', u'hardli', u'conduc', 'oscar', u'win', u'perform', '.', u'tri', 'hardest', u'littl', 'help', 'may', 'say', 'husband', '%%', u'lead', '%%', 'man', 'somehow', u'outsid', u'pressur', u'sever', '.', u'unflag', 'effort', u'devot', u'achiev', 'stardom', u'fortun', u'worldrenown', 'wife', 'age', 'young', 'men', u'cast', 'first', 'vote', 'letch', u'proceed', 'neglect', '.', 'never', 'quick', u'studi', 'made', 'attempt', 'learn', u'line', u'mani', 'mile', 'film', u'wast', u'mani', 'scene', u'sometim', u'involv', u'mani', 'thousand', 'fellow', u'thespian', 'taken', u'thirti', u'forti', u'fifti', u'time', u'miss', u'poitrin', 'costar', u'helpmat', 'never', u'learn', 'part', '.'], 'source.n': ['source.n', u'mani', u'banker', 'view', 'propertysector', u'loan', u'particularli', u'riski', '.', u'cancel', 'shanghai', 'loan', u'leav', 'asia', u'develop', 'small', 'concern', u'saddl', u'halfcomplet', u'stori', u'apart', u'build', u'heavi', u'debt', '.', u'compani', u'owe', 'million', 'shui', 'group', 'project', 'hong', 'kong', 'contractor', u'signific', 'though', u'unspecifi', 'amount', 'legal', u'fee', 'coudert', u'brother', 'u.s.', 'law', 'firm', '%%', u'sourc', '%%', 'say', '.', 'project', 'known', u'lotu', 'mansion', u'mire', u'controversi', '.', 'loan', 'agreement', u'announc', u'hail', 'one', 'first', u'westernstyl', u'financ', u'transact', 'ever', u'use', 'china', '.'], 'exchange.n': ['exchange.n', 'new', u'note', 'bear', 'interest', '.', '%', u'juli', u'thereaft', '%', '.', u'origin', u'propos', 'maker', u'specialti', u'coat', u'develop', 'informationdisplay', u'technolog', u'offer', u'note', 'due', 'common', u'share', 'cash', 'face', 'amount', '.', u'complet', '%%', u'exchang', '%%', 'offer', 'subject', 'tender', 'least', '%', 'debt', 'among', u'thing', '.', u'alpin', 'said', 'nt', 'plan', 'extend', 'offer', 'said', u'receiv', 'face', 'amount', 'debt', u'origin', 'offer', '.'], 'space.n': ['space.n', 'nasa', u'postpon', 'liftoff', 'space', u'shuttl', u'atlanti', 'rain', 'near', 'site', 'launch', 'pad', 'cape', u'canaver', 'fla', '.', 'flight', u'reschedul', 'today', '.', 'spacecraft', 'five', u'astronaut', 'dispatch', u'nuclearpow', 'galileo', '%%', 'space', '%%', 'probe', u'exploratori', 'mission', u'jupit', '.', u'senat', u'democrat', u'leader', 'said', 'enough', u'vote', 'defeat', u'propos', u'constitut', u'amend', 'ban', 'flag', u'burn', '.', u'amend', u'aim', u'skirt', u'suprem', 'court', u'rule', 'threw', u'convict', u'texa', u'flagburn', u'ground', 'freedom', 'speech', u'violat', '.'], 'order.n': ['order.n', 'chicago', 'merc', u'ban', 'dual', u'trade', 'standard', 'poor', 'stock', 'index', u'futur', 'pit', '.', u'rule', u'trader', u'decid', 'session', u'begin', 'whether', 'trade', 'account', u'custom', '.', u'trader', 'stand', 'pit', 'top', 'step', u'custom', '%%', u'order', '%%', u'execut', 'ca', 'nt', 'trade', '.', 'merc', 'spokesman', 'said', 'plan', 'nt', 'made', 'much', u'differ', u'liquid', 'pit', '.', 'soon', 'tell', '...', u'peopl', 'nt', 'seem', u'unhappi', 'said', '.'], 'remove.v': ['remove.v', u'care', 'word', 'gay', u'undergon', u'chang', '.', u'mean', u'countri', u'homosexu', 'said', '.', 'oh', 'forgot', 'say', 'one', 'taken', u'funni', u'hous', u'funni', 'wagon', '%%', u'remov', '%%', 'mental', u'institut', u'ambul', '.', u'recent', 'way', u'receiv', u'questionnair', u'ask', 'whether', u'noninstitution', '.', 'host', 'went', u'stare', 'window', u'peacock', u'turn', '.'], 'keep.v': ['keep.v', 'last', 'joint', u'ventur', u'saint', u'ladi', u'deepli', u'religi', 'film', u'base', 'life', 'mother', 'cabrini', u'time', u'releas', 'date', 'would', u'coincid', u'beatif', 'america', 'first', 'saint', u'novemb', 'fiasco', 'start', 'finish', '.', u'play', 'mother', 'cabrini', u'pictur', u'actual', 'mine', u'nearli', u'everi', 'scene', 'built', 'around', '.', 'order', '%%', 'keep', '%%', 'letch', 'public', 'eye', u'troubl', 'wrote', 'part', u'especi', u'dash', 'ruffian', u'see', 'light', u'save', u'inspir', u'exampl', 'mother', 'cabrini', '.', u'appreci', u'effort', 'behalf', u'troubl', u'memor', 'small', 'part', u'tailormad', u'specif', 'role', u'eventu', 'cut', 'three', 'short', u'speech'], 'network.n': ['network.n', u'meanwhil', 'nbc', u'sport', u'recent', 'began', u'score', u'plu', 'yearround', 'hour', 'line', u'provid', 'complex', 'array', u'score', u'analysi', 'fan', u'news', '.', 'spokesman', 'said', u'purpos', 'bolster', u'impress', 'nbc', u'sport', u'alway', u'peopl', '.', 'nbc', u'onlin', u'consum', u'minut', u'increas', u'advertis', u'spend', 'day', '%%', 'network', '%%', 'weakest', 'period', '.', 'weekday', u'match', 'sponsor', 'topic', u'monday', u'unilev', 'n.v.', 'lever', 'bros.', u'sponsor', u'tip', 'diet', u'exercis', u'follow', 'second', 'lever', 'bros.', u'commerci', '.', u'viewer', 'call', 'number', u'addit', u'advic', u'tailor', u'need', u'base', u'number', 'punch', u'press', 'one', 'pregnant', 'etc', '.', '.'], 'purchase.v': ['purchase.v', 'nt', 'even', 'ask', 'cost', u'collect', '.', u'go', 'set', 'workshop', 'proper', u'equip', '.', u'return', 'home', 'station', 'wagon', u'load', u'tool', u'jinni', 'gone', 'friend', u'meet', u'villag', u'use', u'recent', '%%', u'purchas', '%%', 'second', 'car', '.', 'glad', '.', 'gave', u'chanc', 'unload', 'stuff', 'get', 'cellar', 'without', u'barrag', 'acid', u'comment', '.'], 'do.v': ['do.v', u'appear', 'late', 'one', 'night', 'bedroom', 'new', u'defens', u'secretari', 'dick', 'cheney', '.', u'marshal', 'came', u'clank', 'like', 'marley', 'ghost', u'drag', u'chain', u'brigad', 'air', u'wing', u'link', 'arab', u'despot', '.', 'would', 'nt', u'leav', 'mr.', 'cheney', u'promis', '%%', '%%', u'whatev', 'pentagon', u'system', u'analyst', 'told', '.', 'next', 'day', 'mr.', 'cheney', 'went', u'cancel', 'ship', u'navi', 'cut', 'back', 'one', 'carrier', u'frigat', '.', u'cancel', u'product', u'navi', u'import', 'carrier', 'aircraft', 'f', '.'], 'go.v': ['go.v', u'marshal', 'came', u'clank', 'like', 'marley', 'ghost', u'drag', u'chain', u'brigad', 'air', u'wing', u'link', 'arab', u'despot', '.', 'would', 'nt', u'leav', 'mr.', 'cheney', u'promis', u'whatev', 'pentagon', u'system', u'analyst', 'told', '.', 'next', 'day', 'mr.', 'cheney', '%%', 'went', '%%', u'cancel', 'ship', u'navi', 'cut', 'back', 'one', 'carrier', u'frigat', '.', u'cancel', u'product', u'navi', u'import', 'carrier', 'aircraft', 'f', '.', 'hand', 'mr.', 'cheney', u'retain', 'new', 'land', u'forc', '.'], 'receive.v': ['receive.v', u'chanc', u'take', 'joe', 'place', u'ask', '.', 'fix', u'undertak', u'return', 'politician', 'right', '.', u'manag', u'movi', 'theater', '%%', u'receiv', '%%', u'telephon', 'call', 'woman', u'equal', u'indefinit', '.', 'got', 'today', u'inquir', '.', 'blue', 'suit', u'answer', '.'], 'end.v': ['end.v', 'son', 'daughter', 'local', u'coupl', u'marri', '.', 'apart', u'misplac', u'modifi', u'headlines', u'journal', u'contribut', 'wide', u'varieti', 'comic', u'ambigu', u'editori', u'advertis', 'matter', '.', u'weekli', u'newspap', u'report', 'local', u'romanc', u'coupl', u'marri', 'last', 'saturday', u'thu', '%%', u'end', '%%', 'friendship', 'began', u'schoolday', '.', 'item', u'letter', 'column', u'newspap', u'renew', u'subscript', u'ad', u'person', 'enjoy', u'newspap', 'much', 'husband', '.', u'cater', 'ad', 'read', u'get', u'marri', 'affair'], 'start.v': ['start.v', 'three', u'differ', u'time', u'turbul', u'marriag', u'strang', u'girl', 'commonest', u'accent', u'telephon', u'announc', 'letch', u'sire', 'unborn', 'children', 'deepest', u'matern', u'instinct', 'heart', u'fairli', 'bled', 'thought', u'darl', 'pink', 'white', u'bundl', 'heaven', 'would', u'proudli', 'given', 'husband', '.', 'ah', 'old', u'invari', u'ungal', u'untru', 'retort', u'whenev', u'suggest', '%%', u'start', '%%', u'famili', '.', 'letch', 'made', u'abundantli', 'clear', 'care', u'compani', u'preciou', 'daughter', '.', 'felt', 'wiser', 'keep', 'babydear', 'school', u'summer', 'camp', 'run', u'societi', u'friend', 'year', 'around', '.'], 'part.n': ['part.n', 'total', u'borrow', 'million', u'compani', 'said', '.', u'proce', u'borrow', 'credit', 'agreement', u'use', 'pay', 'million', 'cash', 'dividend', 'macmillan', 'lend', u'remaind', 'million', u'maxwel', u'commun', u'connect', u'promissori', 'note', '.', u'proce', u'offer', u'use', 'repay', u'borrow', 'shortterm', '%%', u'part', '%%', 'credit', 'agreement', '.', 'berlitz', u'base', 'princeton', 'n.j.', u'provid', u'languag', u'instruct', u'translat', u'servic', u'languag', u'center', u'countri', '.', 'past', 'five', u'year', '%', u'sale', u'outsid', 'u.s.', '.'], 'attempt.v': ['attempt.v', u'avail', u'right', 'citizen', u'declar', u'incom', 'tax', u'unconstitut', '.', u'litig', u'costli', u'seemingli', u'endless', '.', 'fought', 'like', u'tigress', 'time', u'appeal', 'case', u'suprem', 'court', 'mr.', 'roosevelt', 'henchmen', 'done', u'dirti', 'work', 'well', 'even', u'go', 'far', '%%', 'attempt', '%%', 'pack', 'highest', u'tribun', 'land', 'order', 'defeat', u'littl', '.', u'presidenti', 'coercion', u'succeed', u'poison', u'courtier', u'toadi', u'sycoph', 'bench', u'farreach', u'discourag', 'lawyer', 'nation', u'repres', u'readi', 'like', 'portia', 'present', 'brief', '.'], 'feel.v': ['feel.v', 'night', 'night', u'stay', u'gunni', 'dead', 'winter', u'rub', u'quart', u'expens', 'liniment', u'fuss', 'bran', 'mash', 'cook', u'charlott', u'russ', u'track', u'manur', u'pretti', 'new', 'carpet', 'come', u'hous', '.', 'yet', 'dear', u'babi', 'came', u'tilli', u'jiffi', u'attent', 'sweet', u'worri', u'happi', 'husband', 'could', '.', u'jenni', u'wish', 'dr.', u'dunn', '%%', u'feel', '%%', 'somehow', 'would', 'nt', u'allow', 'dear', u'babi', 'turn', u'triplet', '.', u'someth', 'nice', u'triplet', 'though', 'father', u'seem', u'pleas', u'show', u'disappoint', 'nt', 'son', u'want', u'say', 'nt', 'see', u'triplet', 'trippin', 'pike', 'ever', 'day', u'miss', 'jen', 'hon', '.', 'rhyme', 'em', 'cute'], 'estimate.v': ['estimate.v', u'slump', 'log', u'fenc', 'rail', u'tri', 'lift', '.', 'two', u'shot', u'follow', 'quick', u'success', u'drop', 'limp', u'huddl', 'ground', '.', 'inquest', 'held', 'good', 'deal', u'testimoni', u'anonym', u'note', u'counti', u'coron', '%%', u'estim', '%%', u'shoot', 'done', u'distanc', u'yard', '.', u'rumor', 'offer', 'tom', 'horn', 'made', u'stockgrow', u'associ', u'meet', u'leak', 'grand', u'juri', u'investig', 'murder', 'got', 'underway', u'prosecut', 'attorney', 'colonel', 'baird', u'order', 'tall', 'stock', u'detect', u'summon', u'question', '.', 'took', 'time', u'locat', 'horn', '.'], 'set.v': ['set.v', u'door', 'wo', 'nt', 'open', u'door', 'wo', 'nt', 'close', u'shelv', 'broken', u'thing', 'built', 'workshop', u'protest', 'mr.', u'crombi', '.', u'thing', '%%', 'set', '%%', '.', u'wait', 'get', u'thing', 'done', u'month', 'said', '.', 'wo', 'nt', 'live', 'long', 'enough', 'wait', u'besid', 'nt', 'need', u'worri', u'plenti', '.'], 'come.v': ['come.v', 'white', u'hous', 'spokesman', 'said', 'bush', 'would', 'nt', 'alter', u'longstand', 'ban', u'involv', u'clarif', u'need', u'interpret', '.', 'india', 'gandhi', u'call', u'parliamentari', u'elect', 'next', 'month', '.', u'ballot', u'consid', 'test', 'prime', u'minist', u'rule', u'congress', u'parti', '%%', u'come', '%%', 'amid', u'charg', 'inept', 'leadership', u'govern', u'corrupt', '.', 'gandhi', u'famili', u'rule', u'independ', 'india', 'five', u'year', 'year', u'histori', '.', 'soviet', 'union', u'abstain', 'u.n.', u'gener', u'assembl', 'vote', 'reject', 'israel', u'credenti', '.'], 'produce.v': ['produce.v', 'date', u'howev', 'garden', 'still', u'less', u'mess', 'nt', 'even', u'start', 'workshop', 'meadow', 'pond', 'neighborhood', 'nt', 'found', '.', 'nt', 'fault', u'thing', '.', u'difficulti', 'day', u'seem', '%%', u'produc', '%%', 'quota', u'detail', 'must', u'clean', u'immedi', '.', 'result', 'life', u'becom', 'kind', u'continu', u'makereadi', '.', u'dispos', u'item', u'scream', u'harshli', u'attent', 'could', u'undertak', u'thing', u'realli', u'count', '.'], 'improve.v': ['improve.v', 'white', u'skin', 'blue', u'eye', 'men', u'beard', u'mani', 'women', u'beauti', '.', u'piti', 'left', 'subsist', u'mainli', 'tourist', 'trade', 'sing', 'ancient', 'tribal', u'chant', u'haunt', u'sad', u'lament', 'american', u'indian', '.', u'assimil', u'sometim', 'man', 'miyagi', 'akita', u'prefectur', 'much', u'hairi', u'averag', u'japanes', u'occasion', 'girl', u'strikingli', u'love', u'color', u'warm', '%%', u'improv', '%%', u'littl', u'tawni', 'honeyinthesun', 'tint', u'invad', 'south', '.', u'tommi', 'momoyama', 'one', u'fortun', u'occas', '.', 'taller', u'japanes', u'girl', u'exquisit', u'willowi', 'form', u'japanes', 'girl', u'lucki', 'enough', 'tall', '.'], 'chance.n': ['chance.n', 'insist', 'low', 'bid', 'say', 'share', 'board', 'might', 'nt', u'abl', 'obtain', 'higher', 'offer', u'bidder', u'bank', 'might', u'hesit', u'financ', u'transact', u'pilot', u'oppos', '.', 'also', 'ual', 'chairman', 'stephen', 'wolf', 'ual', u'execut', u'join', u'pilot', 'bid', 'board', 'might', u'forc', u'exclud', u'deliber', 'order', 'fair', u'bidder', '.', 'could', 'cost', '%%', u'chanc', '%%', u'influenc', u'outcom', u'perhap', 'join', u'win', 'bidder', '.'], 'claim.v': ['claim.v', u'henri', 'ford', 'spoke', u'utterli', u'astound', '.', 'heywood', 'broun', 'wrote', u'bell', u'poitrin', u'origin', 'thinker', u'sinc', 'caligula', 'even', 'f.d.r.', u'conced', 'rest', 'nation', u'show', 'foresight', u'patriot', u'miss', u'poitrin', 'america', 'would', u'rapidli', u'resembl', 'ancient', 'babylon', 'nineveh', '.', 'court', u'cost', u'prohibit', u'subject', u'crippl', u'fine', u'addit', u'usuri', 'interest', 'unpaid', u'debt', u'govern', '%%', u'claim', '%%', u'metronom', u'owe', u'sever', u'financi', 'blow', '.', u'manni', 'said', u'notorieti', 'done', 'career', 'good', '.', u'enemi', u'anxiou', 'level', u'charg', u'reactionari', 'robber', u'baro', 'even', 'traitor'], 'raise.v': ['raise.v', u'worri', u'inabl', 'get', 'simplest', u'thing', 'done', u'cours', 'day', '.', 'would', 'wake', u'middl', 'night', 'fret', '.', 'world', u'formerli', 'found', 'time', 'build', u'busi', '%%', u'rais', '%%', u'famili', 'half', 'dozen', u'board', 'work', u'activ', u'committe', 'either', 'go', u'even', 'plow', u'content', u'bulg', 'brief', 'case', u'possibl', u'peopl', 'grow', 'older', u'natur', 'time', u'chang', 'could', u'speed', u'age', u'mysteri', 'way', u'bore', u'univers', u'skip', 'end', 'chapter', 'get'], 'value.n': ['value.n', u'percentag', 'omit', u'consider', u'mani', u'paint', 'go', u'beg', 'auction', '.', 'art', u'index', 'track', u'winner', u'loser', '.', 'art', 'fallen', u'sharpli', '%%', u'valu', '%%', u'rare', 'put', 'sale', '.', 'also', u'sothebi', u'auction', 'old', u'master', u'roughli', 'onethird', 'onefifth', u'offer', 'nt', 'sell', 'price', '.', 'nt', u'bid', u'bid', 'nt', 'meet', 'minimum', u'reserv', u'price', 'set', u'seller', '.'], 'regard.v': ['regard.v', u'custom', u'ask', u'allig', u'shoe', 'said', 'size', u'allig', 'comic', u'indefinit', u'compris', u'extens', u'class', u'comedi', '.', 'one', u'speci', u'restrict', u'statement', 'neither', 'explicit', u'precis', '%%', u'regard', '%%', 'particular', 'person', 'place', 'time', 'thing', '.', 'woman', 'met', u'famou', 'author', u'literari', 'tea', '.', 'oh', u'delight', 'meet', u'gush', '.'], 'complete.v': ['complete.v', 'soso', '.', u'indefinit', u'refer', 'also', u'carri', u'doublemean', u'allus', 'one', 'person', 'thing', u'seem', 'refer', u'anoth', '.', u'news', 'item', u'describ', u'launch', 'ship', '%%', u'complet', '%%', u'ceremoni', u'beauti', u'movi', 'star', u'smash', u'bottl', u'champagn', 'stern', 'slid', u'grace', u'way', 'sea', '.', u'unlik', 'order', u'receiv', 'sergeant', u'armi', 'motor', 'pool', 'four', u'truck', 'fort', 'mason', 'gym', 'tonight', u'haul', u'girl', u'danc', '.', u'bodi', 'must', u'clean', u'seat', u'wipe', '.'], 'prove.v': ['prove.v', u'sigh', u'think', 'among', u'thing', u'peopl', u'seem', 'would', 'cut', u'earn', u'less', u'yearli', u'peopl', 'would', 'give', 'teeth', u'chanc', 'get', 'person', 'person', u'peopl', 'thought', 'nice', u'import', u'import', 'nice', u'ingrati', u'graciou', u'person', u'person', '.', u'estim', u'peopl', 'read', u'daphn', 'du', 'maurier', u'discuss', 'kafka', 'well', u'discuss', u'exactli', 'said', 'kafka', u'rever', u'rais', u'eye', u'loss', u'describ', 'felt', 'kafka', u'opinion', 'kafka', 'read', 'kafka', '.', 'felt', u'peopl', u'invari', u'tri', '%%', 'prove', '%%', u'tri', u'determin', u'other', '.', u'becom', u'awar', u'nearli', u'lunchtim', 'brought', 'back', u'task', 'hand', '.', 'made', u'plan', 'afternoon', 'breakfast', 'luncheon', u'dish', u'make', u'bed', u'mayb', u'paint', 'kitchen', '.'], 'rate.n': ['rate.n', 'citibank', 'chase', u'agre', 'commit', 'billion', 'said', u'highli', u'confid', u'rais', u'anoth', '.', 'billion', '.', u'togeth', 'citicorp', 'chase', u'receiv', 'million', u'fee', u'rais', 'rest', u'financ', '.', u'bank', u'balk', 'low', 'interest', '%%', 'rate', '%%', u'bank', u'fee', 'ual', 'group', u'will', 'pay', '.', u'offici', 'familiar', 'bank', u'talk', 'said', 'ual', 'buyout', 'group', 'ual', u'pilot', u'manag', 'british', u'airway', 'plc', u'will', 'pay', 'higher', 'bank', u'fee', 'interest', 'nt', u'like', 'boost', 'million', u'equiti', u'contribut', '.', 'group', u'like', 'come', 'forward', u'revis', 'offer', 'within', 'next', u'hour', u'despit', u'hope', u'mani', u'trader', '.'], 'future.n': ['future.n', u'senat', 'bill', 'would', u'forc', 'cftc', 'suspend', 'dual', u'trade', u'exchang', 'ca', 'nt', 'show', 'oversight', 'system', 'detect', u'dualtrad', u'abus', '.', 'far', 'one', 'test', u'restrict', 'dual', u'trade', u'work', 'well', '.', 'chicago', 'merc', u'ban', 'dual', u'trade', 'standard', 'poor', 'stock', 'index', '%%', u'futur', '%%', 'pit', '.', u'rule', u'trader', u'decid', 'session', u'begin', 'whether', 'trade', 'account', u'custom', '.', u'trader', 'stand', 'pit', 'top', 'step', u'custom', u'order', u'execut', 'ca', 'nt', 'trade', '.'], 'buy.v': ['buy.v', u'marshal', u'figur', 'would', 'good', u'train', u'soldier', 'someday', u'mayb', 'would', 'get', 'whole', u'navi', '.', 'fun', u'move', u'carrier', 'around', u'turn', 'forgotten', 'mine', u'sweeper', '.', 'shah', 'still', 'kept', u'leap', 'cap', 'cap', '%%', 'bought', '%%', u'hundr', 'merchant', u'ship', 'billion', u'load', u'barg', u'ramp', 'etc.', 'order', 'seven', 'new', u'armi', u'divis', 'three', u'marin', u'brigad', 'could', 'unload', 'new', u'ship', 'aircraft', 'go', 'war', u'zagro', u'mountain', '.', u'suddenli', 'ike', 'ghost', 'came', 'visit', 'said', 'hell', u'plan', 'land', 'war', 'asia', u'mile', 'away', 'get', u'ass', u'kick', '.'], 'promise.v': ['promise.v', 'longer', 'tom', u'moor', 'longfellow', 'heart', 'fate', 'either', 'said', '.', u'moor', 'longfellow', 'nt', 'fate', u'face', 'us', 'moreland', 'said', '.', 'one', 'day', u'speci', '%%', u'promis', '%%', u'coexist', 'next', 'day', u'threaten', u'coextinct', '.', 'sat', u'drink', u'silenc', '.', 'heart', 'said', u'final', 'either', 'throat', 'mouth', 'stomach', u'shoe', '.'], 'bill.n': ['bill.n', 'amr', u'weigh', 'wide', u'rang', u'possibl', u'respons', 'flat', u'reject', u'recapit', u'leverag', u'buyout', 'might', u'includ', 'either', u'employe', 'friendlier', 'buyer', u'texa', u'billionair', 'robert', u'bass', '.', 'amr', 'also', 'sought', 'foil', 'mr.', 'trump', u'congress', u'lobbi', u'legisl', 'would', u'bolster', u'author', u'transport', u'depart', 'reject', u'airlin', u'buyout', '.', 'yesterday', 'mr.', 'trump', u'tri', 'put', 'blame', u'collaps', 'ual', 'deal', u'congress', u'say', u'rush', '%%', 'bill', '%%', 'protect', 'amr', u'execut', '.', u'believ', u'percept', u'legisl', 'area', 'may', u'hastili', u'approv', u'contribut', u'collaps', 'ual', u'transact', u'result', u'disrupt', u'financi', u'market', u'experienc', 'past', 'friday', 'mr.', 'trump', 'wrote', u'member', u'congress', '.', 'amr', u'declin', 'comment', 'mr.', 'trump', 'nt', 'respond', u'request', u'interview', '.'], 'build.v': ['build.v', 'letch', 'made', 'ten', u'film', u'togeth', u'less', u'success', u'artist', u'commerci', 'one', '.', 'last', 'joint', u'ventur', u'saint', u'ladi', u'deepli', u'religi', 'film', u'base', 'life', 'mother', 'cabrini', u'time', u'releas', 'date', 'would', u'coincid', u'beatif', 'america', 'first', 'saint', u'novemb', 'fiasco', 'start', 'finish', '.', u'play', 'mother', 'cabrini', u'pictur', u'actual', 'mine', u'nearli', u'everi', 'scene', '%%', 'built', '%%', 'around', '.', 'order', 'keep', 'letch', 'public', 'eye', u'troubl', 'wrote', 'part', u'especi', u'dash', 'ruffian', u'see', 'light', u'save', u'inspir', u'exampl', 'mother', 'cabrini', '.', u'appreci', u'effort', 'behalf'], 'approve.v': ['approve.v', 'rabbi', 'said', u'thought', 'would', 'want', u'peopl', 'get', u'troubl', 'church', '.', u'work', u'cardin', 'san', 'dionigi', '.', 'sure', 'would', '%%', u'approv', '%%', '.', 'kind', u'model', 'would', 'prefer', 'workmen', '.'], 'authority.n': ['authority.n', 'mr.', 'trump', 'withdrew', 'bid', 'amr', 'board', 'due', 'meet', 'tomorrow', 'ever', u'formal', u'consid', '.', 'amr', u'weigh', 'wide', u'rang', u'possibl', u'respons', 'flat', u'reject', u'recapit', u'leverag', u'buyout', 'might', u'includ', 'either', u'employe', 'friendlier', 'buyer', u'texa', u'billionair', 'robert', u'bass', '.', 'amr', 'also', 'sought', 'foil', 'mr.', 'trump', u'congress', u'lobbi', u'legisl', 'would', u'bolster', '%%', u'author', '%%', u'transport', u'depart', 'reject', u'airlin', u'buyout', '.', 'yesterday', 'mr.', 'trump', u'tri', 'put', 'blame', u'collaps', 'ual', 'deal', u'congress', u'say', u'rush', 'bill', 'protect', 'amr', u'execut', '.', u'believ', u'percept', u'legisl', 'area', 'may', u'hastili', u'approv', u'contribut', u'collaps', 'ual', u'transact', u'result', u'disrupt', u'financi', u'market', u'experienc', 'past', 'friday', 'mr.', 'trump', 'wrote', u'member', u'congress', '.'], 'recall.v': ['recall.v', 'yet', u'ador', 'man', 'letch', 'feeley', 'say', '.', 'faint', 'heart', 'brave', 'smile', u'endur', 'long', u'absenc', 'chateau', 'belletch', u'cold', u'indiffer', u'slight', u'abus', '.', u'time', '%%', u'recal', '%%', u'publicli', u'humili', u'love', 'dinner', u'parti', 'trianon', u'suit', u'collat', u'postpon', u'postpon', u'postpon', u'serv', u'dri', u'overcook', u'tabl', 'host', 'chair', 'vacant', 'splash', u'parti', 'new', 'pool', 'built', 'hope', u'keep', 'letch', 'away', 'public', u'beach', 'letch', 'certain', u'aquacuti', u'stay', u'underwat', u'togeth', 'better', 'part', 'hour', u'love', u'epiphani', u'parti', 'errol', 'flynn', u'sacr', u'occas', 'letch', 'stole', 'away', 'unknown', 'starlet', u'leav', 'high', u'dri', 'get', 'home', 'best', 'could', '.', u'sampl', u'insult', u'endur', '.', 'mrs.', 'letch', 'feeley', 'wonder', 'social', u'arbit', 'filmdom', u'exclud', 'smart', u'entertain', 'given', u'astair', u'cooper', u'gabl', u'colman', u'rathbon', u'taylor', u'thalberg', 'devout', u'close', 'knit', u'famili', u'barrymor', u'crosbi'], 'drug.n': ['drug.n', 'move', u'convent', 'trade', u'endang', u'speci', u'meet', 'switzerland', u'place', u'eleph', u'endangeredspeci', 'list', '.', 'assassin', 'colombia', u'kill', u'feder', u'judg', 'medellin', 'street', '.', u'anonym', 'caller', 'local', 'radio', 'station', 'said', u'cocain', u'traffick', 'slain', u'magistr', u'retali', u'extradit', u'colombian', u'want', '%%', 'drug', '%%', u'charg', 'u.s.', '.', 'libyan', 'leader', 'gadhafi', 'met', 'egypt', u'presid', 'mubarak', 'two', u'offici', u'pledg', 'respect', u'law', u'secur', u'stabil', '.', u'stop', 'short', u'resum', u'diplomat', u'tie', u'sever', '.'], 'work.v': ['work.v', u'presenc', 'made', 'letch', 'distant', u'irrit', u'hurri', u'buy', 'chateau', 'belletch', u'neglect', u'consid', 'room', 'babydear', 'place', 'put', 'anyhow', '.', u'sometim', 'feel', 'god', u'infinit', 'wisdom', u'want', 'us', u'inexplic', u'littl', u'laps', u'memori', '.', 'almost', u'alway', '%%', u'work', '%%', 'best', '.', 'yet', u'ador', 'man', 'letch', 'feeley', 'say', '.', 'faint', 'heart', 'brave', 'smile', u'endur', 'long', u'absenc', 'chateau', 'belletch', u'cold', u'indiffer', u'slight', u'abus', '.'], 'policy.n': ['policy.n', u'paramed', u'call', '.', 'week', 'later', 'man', 'told', 'mr.', u'macinni', u'suffer', 'mild', 'heart', 'attack', u'unrel', u'massag', '.', u'power', 'point', 'career', u'say', 'yearold', 'mr.', u'macinni', u'sinc', 'taken', 'million', u'liabil', '%%', u'polici', '%%', u'busi', '.', u'pull', u'ambul', 'left', 'still', 'six', u'peopl', 'line', u'wait', u'massag', '.', 'next', 'woman', 'older', 'afraid', 'touch', '.'], 'power.n': ['power.n', u'helionet', 'inc.', 'said', u'agre', 'team', 'unit', u'minneapolisbas', u'honeywel', 'inc.', u'provid', '%%', 'power', '%%', u'amplifi', 'new', u'militari', 'sonar', 'system', u'propos', u'honeywel', '.', 'total', u'valu', 'contract', 'could', 'million', u'helionet', 'said', 'work', 'project', 'would', u'evenli', u'divid', '.', u'previous', u'report', u'helionet', u'emerg', 'chapter', 'bankruptcylaw', u'protect', u'februari', '.'], 'replace.v': ['replace.v', u'dare', 'demand', 'snoop', u'privat', u'financi', u'record', u'disburs', u'confidenti', u'contract', u'agreement', 'though', 'said', u'histor', 'threehour', 'coasttocoast', 'radio', 'broadcast', 'bought', u'follow', 'father', 'coughlin', u'preempt', u'eddi', 'cantor', 'manhattan', 'merrygoround', 'major', u'bow', u'show', 'man', 'white', u'hous', 'like', 'despot', 'yore', u'insist', u'read', u'diari', u'raid', 'larder', u'ransack', u'lingeri', u'impass', 'plea', 'civil', u'right', u'creat', u'landslid', u'correspond', 'one', 'sponsor', 'even', u'ask', u'consid', '%%', u'replac', '%%', u'eddi', 'cantor', u'comedi', 'hour', u'perman', u'basi', '.', 'quarter', 'could', 'poor', u'defenseless', 'woman', 'expect', u'dictat', 'would', 'even', 'make', 'bold', 'close', u'bank', 'great', 'nation', u'savag', 'barbarian', u'hord', 'red', 'russian', u'commun', u'descend', u'athen', u'mighti', u'metronom', u'sack', u'despoil', u'bolshevist', u'battl', u'cri', 'soak', 'rich'], 'find.v': ['find.v', 'london', u'conclud', 'austrian', u'presid', 'waldheim', 'nt', u'respons', u'execut', 'six', 'british', u'commando', 'world', 'war', 'ii', 'although', u'probabl', u'awar', u'slay', '.', 'report', u'defens', u'ministri', 'also', u'reject', u'alleg', 'britain', u'cover', u'evid', 'waldheim', u'activ', 'german', u'armi', u'offic', '.', u'intern', 'group', u'approv', 'formal', 'ban', u'ivori', 'trade', u'despit', u'object', 'southern', 'african', u'govern', u'threaten', '%%', 'find', '%%', u'altern', u'channel', u'sell', u'eleph', u'tusk', '.', 'move', u'convent', 'trade', u'endang', u'speci', u'meet', 'switzerland', u'place', u'eleph', u'endangeredspeci', 'list', '.', 'assassin', 'colombia', u'kill', u'feder', u'judg', 'medellin', 'street', '.'], 'people.n': ['people.n', 'hard', u'copi', 'new', u'syndic', 'tabloid', 'show', 'paramount', u'pictur', 'use', 'number', u'addit', u'purpos', u'includ', 'research', u'say', u'execut', u'produc', 'mark', 'b.', 'von', 's.', u'monski', '.', u'piec', 'local', u'hero', 'world', 'war', 'ii', 'ask', u'peopl', u'leav', 'name', 'number', u'anyon', 'know', 'medal', u'say', '.', 'save', 'us', 'time', 'get', '%%', u'peopl', '%%', u'involv', '.', 'mr.', u'monski', u'see', 'much', 'bigger', u'chang', 'ahead', '.', u'babi', u'step', 'toward', 'real', u'interact', 'video', u'believ', 'biggest', 'thing', 'yet', 'affect', u'televis', u'say', '.'], 'report.v': ['report.v', u'news', u'item', 'man', u'less', 'often', 'shot', u'bodi', 'head', u'suburb', '.', u'henri', 'morgan', u'escort', u'miss', 'vera', 'green', 'church', 'social', 'last', 'saturday', 'night', u'savag', 'dog', u'attack', 'bit', 'mr.', 'morgan', 'public', u'squar', '.', u'item', u'recal', 'california', 'journalist', '%%', u'report', '%%', u'accid', u'involv', u'movi', 'star', 'area', u'miss', 'n', u'injur', u'spectacularli', 'scenic', '.', u'doubl', u'mean', u'anatom', 'made', 'familiar', u'vaudevil', u'devic', u'gag', 'weber', u'field', '.', u'wit', 'court', u'ask', u'kick', u'ensu', u'rumpu', u'repli', 'stomach', '.'], 'affect.v': ['affect.v', 'could', 'nt', 'seen', u'togeth', u'tongu', 'scandal', 'ever', u'readi', 'link', u'name', u'tongu', 'scandal', u'find', 'one', 'thing', 'say', u'associ', 'man', 'girl', 'matter', u'innoc', '.', 'could', 'nt', u'invit', 'viola', u'hous', 'mother', u'snobbishli', u'refus', u'receiv', '.', 'czarship', '%%', u'affect', '%%', u'sens', 'social', u'valu', 'mother', u'attain', u'reflect', u'glori', u'open', u'door', u'lo', 'angelespasadena', u'societi', '.', 'mother', u'receiv', u'scion', u'aristocrat', u'line', u'domin', u'budweis', 'beer', u'deriv', u'chalmer', 'underwear', 'origin', u'heinz', 'whose', u'forbear', u'found', u'nation', u'famou', 'trade', u'pickl', '.', u'hate', u'drag', u'salon', u'aristocrat', '.'], 'hope.v': ['hope.v', u'watch', u'televis', 'late', 'one', 'night', 'last', 'week', u'stand', u'remark', 'well', 'even', u'twenti', u'year', 'later', '.', 'letch', u'return', u'debacl', u'unrepent', u'badli', u'behav', '.', u'realli', u'love', 'boy', 'feverish', 'attempt', u'preserv', u'marriag', u'tri', u'reviv', u'wonder', u'wonder', 'person', 'letch', 'took', u'troubl', 'momma', '%%', u'hope', '%%', u'earthi', u'advic', 'would', 'help', '.', 'could', 'think', u'someth', 'studio', 'near', 'absorb', u'boundless', u'energi', 'said', '.', 'letch', u'interest'], 'hold.v': ['hold.v', u'marshal', 'ghost', u'satisfi', 'back', '.', 'halloween', u'come', 'bigger', u'defens', u'cut', u'loom', 'pentagon', u'bureaucrat', u'crawl', u'desk', '.', 'know', '%%', 'hold', '%%', u'ghost', u'littl', 'longer', u'cut', u'carrier', u'ship', '.', 'whole', 'thing', 'start', u'collaps', u'ghost', u'banshe', u'howl', 'place', u'turn', u'peopl', 'hair', 'white', '.', u'give', u'willi', u'think', '.'], 'job.n': ['job.n', u'battl', u'rage', u'venic', u'plan', 'yearold', 'italian', u'citi', 'site', u'univers', u'exposit', '.', u'plan', u'includ', 'subway', 'system', u'congress', 'center', u'float', u'tree', u'fanci', u'fountain', u'mani', u'addit', u'tourist', 'day', '.', 'expo', u'enthusiast', u'argu', u'hold', 'fair', 'would', 'attract', u'busi', u'creat', '%%', u'job', '%%', 'help', u'renov', u'abandon', u'section', 'town', '.', u'oppon', 'fear', u'overcrowd', '.', u'citi', u'alreadi', u'mani', u'tourist', 'ca', 'nt', 'hold', u'say', 'pierluigi', 'beggiato', u'presid', u'venic', u'hoteli', u'associ', '.'], 'explain.v': ['explain.v', 'day', 'saw', u'someth', u'someth', u'magazin', '.', u'baffl', 'lack', 'distinct', u'detail', u'recal', u'secretari', 'whose', u'employ', u'leav', u'offic', 'told', 'answer', u'anyon', u'call', u'absenc', '.', 'may', 'back', '%%', u'explain', '%%', 'may', '.', 'girl', u'nod', u'understandingli', '.', u'ye', 'sir', 'said', u'definit'], 'describe.v': ['describe.v', 'soso', '.', u'indefinit', u'refer', 'also', u'carri', u'doublemean', u'allus', 'one', 'person', 'thing', u'seem', 'refer', u'anoth', '.', u'news', 'item', '%%', u'describ', '%%', u'launch', 'ship', u'complet', u'ceremoni', u'beauti', u'movi', 'star', u'smash', u'bottl', u'champagn', 'stern', 'slid', u'grace', u'way', 'sea', '.', u'unlik', 'order', u'receiv', 'sergeant', u'armi', 'motor', 'pool', 'four', u'truck', 'fort', 'mason', 'gym', 'tonight', u'haul', u'girl', u'danc', '.', u'bodi', 'must', u'clean', u'seat', u'wipe', '.'], 'effect.n': ['effect.n', u'increas', 'number', u'bank', 'appear', u'consid', 'option', 'deal', u'wherebi', 'swap', 'mexican', u'loan', 'year', u'bond', 'face', u'valu', u'discount', '%', 'mr.', 'gurria', 'said', '.', 'two', u'option', 'consist', u'swap', u'loan', u'bond', '.', '%', 'interest', u'rate', u'provid', 'fresh', u'loan', '.', 'accord', u'cover', '.', 'billion', 'mexico', 'medium', 'longterm', 'debt', u'expect', 'go', '%%', 'effect', '%%', u'earli', 'china', 'top', 'film', u'actress', 'liu', u'xiaoq', 'paid', 'back', u'tax', u'fine', 'shandong', u'provinc', u'peopl', u'daili', u'report', '.', 'amount', 'equal', u'year', u'earn', u'averag', 'peasant', u'make', 'year', '...', '.'], 'development.n': ['development.n', u'automot', u'sale', u'jump', '%', 'million', u'mainli', 'higher', u'sale', 'air', u'bag', u'passeng', 'restraint', u'system', 'trw', 'said', '.', 'group', u'oper', 'profit', 'million', u'loss', 'million', 'year', 'earlier', '.', u'howev', u'exclud', u'yearearli', u'charg', u'recal', u'steer', 'gear', u'oper', 'profit', 'latest', 'quarter', u'declin', '%', u'reflect', 'higher', 'startup', 'product', '%%', u'develop', '%%', u'expens', 'passengerrestraint', u'system', '.', u'materi', u'product', u'cost', 'also', 'rose', 'trw', 'said', '.', u'inform', u'system', 'segment', '%', 'jump', u'sale', 'million', '.'], 'position.n': ['position.n', u'odd', u'end', u'stub', u'toe', u'bruis', u'shin', u'promis', u'gest', 'corp.', 'goshen', 'ind.', u'design', 'bed', 'support', u'replac', u'tradit', u'frame', '.', 'four', 'tubular', 'steel', u'bedfellow', u'roughli', 'shape', 'w', u'attach', 'bottom', 'box', 'spring', u'recess', '%%', u'posit', '%%', '...', '.', u'nearli', 'half', 'u.s.', u'consum', 'say', 'pay', '%', u'packag', u'recycl', u'biodegrad', u'accord', 'survey', u'commiss', 'michael', u'peter', 'group', 'design', u'consult', '.'], 'allow.v': ['allow.v', 'night', 'night', u'stay', u'gunni', 'dead', 'winter', u'rub', u'quart', u'expens', 'liniment', u'fuss', 'bran', 'mash', 'cook', u'charlott', u'russ', u'track', u'manur', u'pretti', 'new', 'carpet', 'come', u'hous', '.', 'yet', 'dear', u'babi', 'came', u'tilli', u'jiffi', u'attent', 'sweet', u'worri', u'happi', 'husband', 'could', '.', u'jenni', u'wish', 'dr.', u'dunn', u'feel', 'somehow', 'would', 'nt', '%%', u'allow', '%%', 'dear', u'babi', 'turn', u'triplet', '.', u'someth', 'nice', u'triplet', 'though', 'father', u'seem', u'pleas', u'show', u'disappoint', 'nt', 'son', u'want', u'say', 'nt', 'see', u'triplet', 'trippin', 'pike', 'ever', 'day', u'miss', 'jen', 'hon', '.', 'rhyme', 'em', 'cute'], 'prepare.v': ['prepare.v', 'pueri', 'aquam', 'de', u'silva', 'ad', u'agricola', 'portant', u'delight', u'vignett', 'set', u'unforgett', 'epoch', u'prepun', 'war', 'rome', '.', u'marcellu', 'hero', 'beset', u'side', u'problem', u'approach', 'manhood', '.', u'stori', u'open', 'eve', 'fiftythird', 'birthday', '%%', u'prepar', '%%', 'two', u'week', u'festiv', 'follow', '.', u'suddenli', u'messeng', u'arriv', u'collaps', 'dead', 'feet', u'inform', u'saracen', u'invad', 'silesia', 'home', u'provinc', u'affianc', '.', u'cancel', u'celebr', u'buckl', 'scimitar', u'stumbl', u'blindli', u'hous', 'hit', u'kill', u'pass', 'oxcart', '.'], 'management.n': ['management.n', 'ual', 'board', 'could', 'reject', 'new', 'price', 'low', u'especi', u'sinc', 'nt', u'compet', u'bid', '.', u'lo', u'angel', 'investor', 'marvin', u'davi', 'whose', u'ashar', 'offer', u'reject', 'ual', 'board', 'nt', 'shown', u'sign', u'pursu', u'ashar', 'backup', 'bid', 'made', 'last', 'month', '.', u'addit', u'coalit', 'labor', '%%', u'manag', '%%', u'longtim', u'enemi', u'join', u'forc', 'threat', 'mr.', u'davi', 'bid', 'could', 'break', 'apart', '.', 'group', u'resili', u'get', 'first', 'test', 'today', 'top', 'pilot', 'union', u'leader', u'conven', u'outsid', 'chicago', u'previous', u'schedul', u'meet', '.', 'union', 'chairman', 'f.c', '.', 'rick', u'dubinski', u'face', 'tough', 'task', u'explain', u'bank', u'refus', u'financ', 'buyout', u'member', u'approv', u'overwhelmingli', 'last', 'week', '.'], 'express.v': ['express.v', 'somewhat', 'beaten', 'track', 'sure', 'therein', u'lie', u'varieti', 'charm', '.', u'exampl', u'probabl', u'peopl', 'know', 'word', 'visrhanik', u'banter', 'much', 'today', u'stem', 'verb', 'bouanahsha', u'saliv', '.', u'likewis', u'equal', u'fascin', u'news', u'unlik', u'synonym', 'pratakku', 'sweathruna', u'tonguetwist', 'nnuolapertaritvuhkartibirifw', u'origin', u'villag', u'batharonw', u'provinc', u'use', '%%', u'express', '%%', u'sentiment', u'concern', 'british', u'imperi', '.', u'term', u'fairli', 'safe', 'use', 'side', 'ocean', 'start', u'spout', 'date', 'might', 'best', 'find', 'member', 'major', u'pockmanst', 'delhi', 'regiment', u'sinc', u'resent', 'toward', u'nativ', u'reportedli', 'high', 'outfit', '.', u'breez', 'chancellor', 'neitzbohr', u'movi', 'melodrama', u'concern', u'attempt', 'west', 'german', 'politician', 'woo', 'plaster', 'cast', 'apollo', u'belveder', '.'], 'rush.v': ['rush.v', u'ye', 'maam', 'children', u'chorus', u'heartili', '.', 'could', 'nt', 'help', u'laugh', '.', 'children', '%%', u'rush', '%%', 'get', 'rid', u'sweater', u'arlen', 'began', u'tap', 'kitchen', 'door', 'open', '.', u'arlen', 'good', 'girl', u'uncl', u'remark', 'us', 'said', 'soon', 'came', 'tap', 'door', u'respond', '.', 'tap', 'slight', 'bangish', u'qualiti', '.'], 'exist.v': ['exist.v', u'anoth', u'stori', '.', u'privat', u'moni', u'rapidli', u'dissip', u'drink', u'game', u'carous', '.', u'confront', u'profession', u'gambler', u'booki', 'loan', u'shark', u'gangster', u'thug', 'finger', 'men', u'peopl', u'class', 'even', 'know', '%%', u'exist', '%%', 'repay', 'husband', u'stagger', u'loss', u'els', u'shudder', 'think', u'someon', 'dear', 'could', 'even', u'associ', u'sinist', 'milieu', '.', 'three', u'differ', u'time', u'turbul', u'marriag', u'strang', u'girl', 'commonest', u'accent', u'telephon', u'announc', 'letch', u'sire', 'unborn', 'children'], 'grant.v': ['grant.v', 'black', u'eye', 'long', u'intriguingli', u'tilt', 'way', u'walk', u'melodi', '.', 'japan', 'one', 'week', '.', 'alien', 'land', u'hate', u'intens', u'alreadi', u'consid', u'put', u'rebelli', u'request', u'duti', 'san', 'diego', 'bremerton', 'great', u'lake', 'pensacola', 'place', u'navi', u'hospit', 'threat', 'resign', u'commiss', 'request', '%%', u'grant', '%%', '.', u'anywher', 'would', 'better', 'land', u'ancestor', '.', u'noth', 'wrong', 'job', '.'], 'kill.v': ['kill.v', u'stori', u'open', 'eve', 'fiftythird', 'birthday', u'prepar', 'two', u'week', u'festiv', 'follow', '.', u'suddenli', u'messeng', u'arriv', u'collaps', 'dead', 'feet', u'inform', u'saracen', u'invad', 'silesia', 'home', u'provinc', u'affianc', '.', u'cancel', u'celebr', u'buckl', 'scimitar', u'stumbl', u'blindli', u'hous', 'hit', '%%', u'kill', '%%', u'pass', 'oxcart', '.', u'albani', 'civic', 'opera', u'present', 'spumoni', u'immort', 'il', 'sevigli', 'del', 'spegititgninino', 'guest', 'contralto', u'hatti', 'sforzt', '.', u'unusu', u'extraordinari', u'render', 'classic', 'myth', u'involv', u'rescu', u'prometheu', 'rock', 'u.s.', u'cavalri', 'given', 'last', 'week', u'warehous', u'albani', 'leather', 'conduit', u'compani', 'amid', u'cheer', 'hubba', 'hubba', 'yalagaloo', 'pip', 'pip'], 'propose.v': ['propose.v', u'sinc', 'latter', u'obvious', u'requir', u'audac', u'possess', 'may', u'perhap', u'suppos', u'taunt', u'social', 'inferior', '.', 'far', u'mere', 'draw', u'etymolog', u'distinct', u'hope', u'specialist', u'busi', u'peopl', 'like', u'welcom', u'precis', 'layman', '.', u'disabus', 'thought', '%%', u'propos', '%%', 'vent', 'moral', u'indign', u'rifl', u'resid', 'whimper', u'loss', u'objet', 'dart', 'shame', u'rectitud', '.', 'object', 'rather', 'alert', 'aspect', 'two', 'affair', 'could', 'gravest', u'implic', 'far', 'beyond', 'legal', u'sanction', u'societi', 'might', 'inflict', '.', u'unwittingli', 'set', 'motion', u'forc', 'malign', u'vindict', 'would', 'downright', u'inhuman', 'warn', '.'], 'area.n': ['area.n', 'amr', 'also', 'sought', 'foil', 'mr.', 'trump', u'congress', u'lobbi', u'legisl', 'would', u'bolster', u'author', u'transport', u'depart', 'reject', u'airlin', u'buyout', '.', 'yesterday', 'mr.', 'trump', u'tri', 'put', 'blame', u'collaps', 'ual', 'deal', u'congress', u'say', u'rush', 'bill', 'protect', 'amr', u'execut', '.', u'believ', u'percept', u'legisl', '%%', 'area', '%%', 'may', u'hastili', u'approv', u'contribut', u'collaps', 'ual', u'transact', u'result', u'disrupt', u'financi', u'market', u'experienc', 'past', 'friday', 'mr.', 'trump', 'wrote', u'member', u'congress', '.', 'amr', u'declin', 'comment', 'mr.', 'trump', 'nt', 'respond', u'request', u'interview', '.', 'mr.', 'trump', 'never', 'said', 'much', 'amr', 'stock', 'bought', u'hold', u'substanti', '.'], 'remember.v': ['remember.v', 'mr.', u'crombi', u'watch', 'wife', u'anxiou', u'express', '.', 'sayin', u'readi', u'anyth', u'els', 'want', 'done', '.', 'mr.', u'crombi', 'could', 'nt', '%%', u'rememb', '%%', u'say', 'thing', '.', 'oh', u'wonder', u'cri', 'mrs.', u'crombi', '.', 'thousand', u'thing', '.'], 'examine.v': ['examine.v', u'smoke', 'much', '.', u'tick', u'item', u'finger', u'swear', 'much', u'goe', u'boy', 'whoever', 'much', 'ever', u'goe', 'church', 'wo', 'nt', 'even', 'listen', u'tri', u'persuad', 'come', 'back', 'fold', '.', '%%', u'examin', '%%', u'nail', u'care', '.', 'could', 'walk', 'door', '.', 'nt', 'dare', '.'], 'say.v': ['say.v', 'move', u'convent', 'trade', u'endang', u'speci', u'meet', 'switzerland', u'place', u'eleph', u'endangeredspeci', 'list', '.', 'assassin', 'colombia', u'kill', u'feder', u'judg', 'medellin', 'street', '.', u'anonym', 'caller', 'local', 'radio', 'station', '%%', 'said', '%%', u'cocain', u'traffick', 'slain', u'magistr', u'retali', u'extradit', u'colombian', u'want', 'drug', u'charg', 'u.s.', '.', 'libyan', 'leader', 'gadhafi', 'met', 'egypt', u'presid', 'mubarak', 'two', u'offici', u'pledg', 'respect', u'law', u'secur', u'stabil', '.', u'stop', 'short', u'resum', u'diplomat', u'tie', u'sever', '.'], 'join.v': ['join.v', 'one', u'miss', u'handspik', 'came', u'hide', 'place', 'midshipman', 'tillotson', u'insol', u'disobey', 'seaman', 'wilson', '.', 'tillotson', u'report', 'man', 'gansevoort', 'hour', 'later', 'back', u'turn', u'attack', 'wilson', u'brandish', 'weapon', '.', 'wilson', u'shackl', u'snarl', 'thrown', u'prison', 'soon', '%%', u'join', '%%', 'green', 'mckee', 'mckinley', '.', 'man', 'brig', 'loyal', u'villain', 'could', u'unaffect', 'sight', 'seven', 'men', u'involv', 'crime', u'mutini', '.', u'tini', 'cabin', u'alexand', 'met', 'gansevoort', 'heiser', u'wale', 'speak', 'listen', '.'], 'negotiate.v': ['negotiate.v', u'sens', u'moder', u'fair', u'superbl', u'exemplifi', u'exchang', u'letter', 'john', 'jay', u'tori', u'refuge', 'peter', 'van', 'schaack', '.', 'jay', u'particip', u'decis', u'exil', 'old', 'friend', 'van', 'schaack', '.', 'yet', 'war', 'end', u'extori', 'made', 'first', 'move', u'resum', u'correspond', 'jay', 'wrote', u'pari', '%%', u'negoti', '%%', u'peac', 'settlement', u'independ', 'american', u'consid', 'us', 'amongst', 'rest', 'us', 'yet', u'assur', 'john', 'jay', 'never', u'ceas', 'friend', 'peter', 'van', 'schaack', '.', 'latter', 'turn', u'assur', u'arraign', 'bar', u'judg', 'expect', 'stand', 'fall', u'merit', u'caus', '.', 'seven', u'recogn', u'independ', 'first', 'step', 'toward', u'build', 'nation', '.'], 'maintain.v': ['maintain.v', u'walk', u'step', u'fumbl', 'time', 'time', 'chose', u'ignor', 'omen', '.', 'slope', 'grew', 'steeper', u'grove', 'dim', u'tri', 'heed', '.', u'success', u'depend', 'upon', '%%', u'maintain', '%%', u'equanim', 'must', u'pois', 'proud', 'unafraid', 'order', 'prove', 'mountain', 'earnest', '.', 'forest', 'took', u'imperson', 'aspect', '.', 'care', 'sort', 'person', u'prowl', u'wood', u'pluck', 'bark', u'strip', u'berri', u'bush', '.'], 'condition.n': ['condition.n', u'separ', u'banker', u'repres', 'group', u'tri', 'buy', u'unit', 'parent', 'ual', 'corp.', 'met', u'bank', u'reviv', u'purchas', 'lower', 'price', u'possibl', 'around', 'share', '.', 'billion', '.', 'lower', 'bid', 'could', 'face', u'reject', 'ual', 'board', '.', 'mr.', 'trump', u'vow', 'wednesday', 'go', 'forward', 'bid', 'said', u'drop', 'light', 'recent', u'chang', 'market', '%%', u'condit', '%%', '.', 'said', 'might', 'sell', 'amr', 'stake', 'buy', u'share', 'make', u'anoth', 'offer', 'lower', 'price', '.', 'manhattan', u'realest', u'develop', u'act', 'ual', u'buyer', u'fail', 'obtain', u'financ', 'earlier', u'ashar', 'bid', u'spark', u'sell', 'panic', 'among', u'snowbal', 'point', 'drop', 'friday', 'dow', u'jone', u'industri', u'averag', '.'], 'believe.v': ['believe.v', u'forti', u'year', 'ago', 'english', 'writer', 'w.l.', u'georg', 'dealt', 'subject', u'eddi', 'day', 'said', u'exampl', 'saint', u'georg', u'merri', 'england', 'would', 'start', 'spirit', 'half', u'quickli', 'strike', u'frogeat', 'frenchmen', 'dead', 'also', 'gott', 'strafe', u'angleterr', 'moreland', u'remind', 'carthago', 'delenda', 'est', u'deu', 'strafe', u'carthag', '.', 'nt', 'ideologist', '%%', u'believ', '%%', u'hate', u'put', 'world', u'jeopardi', '.', u'forc', 'time', u'everi', 'time', u'urg', 'paranoiac', u'manicdepress', u'becom', 'head', 'state', '.', u'complet', 'power', u'corrupt', 'also', u'attract', 'mad', '.'], 'hour.n': ['hour.n', u'bank', u'balk', 'low', 'interest', 'rate', u'bank', u'fee', 'ual', 'group', u'will', 'pay', '.', u'offici', 'familiar', 'bank', u'talk', 'said', 'ual', 'buyout', 'group', 'ual', u'pilot', u'manag', 'british', u'airway', 'plc', u'will', 'pay', 'higher', 'bank', u'fee', 'interest', 'nt', u'like', 'boost', 'million', u'equiti', u'contribut', '.', 'group', u'like', 'come', 'forward', u'revis', 'offer', 'within', 'next', '%%', u'hour', '%%', u'despit', u'hope', u'mani', u'trader', '.', 'group', u'advis', 'want', 'make', 'certain', 'firm', 'bank', u'commit', 'second', 'time', 'around', '.', 'even', 'buyout', 'group', u'abl', 'obtain', u'financ', u'transact', 'still', u'face', u'obstacl', '.'], 'president.n': ['president.n', u'viewer', 'call', 'number', u'addit', u'advic', u'tailor', u'need', u'base', u'number', 'punch', u'press', 'one', 'pregnant', 'etc', '.', '.', 'caller', u'stay', 'line', u'leav', 'name', u'address', 'sponsor', u'coupon', u'newslett', u'mail', 'sponsor', u'abl', 'gather', 'list', u'desir', u'potenti', u'custom', '.', u'dian', 'seaman', 'nbctv', 'vice', '%%', u'presid', '%%', u'say', 'nbc', u'abl', u'charg', 'premium', u'rate', 'ad', 'time', '.', 'would', 'nt', 'say', 'premium', u'believ', '%', 'regular', u'daytim', u'rate', '.', u'abl', 'get', u'advertis', 'use', u'promot', 'budget', 'get', u'chanc', u'coupon', u'say', 'ms.', 'seaman', '.']}\n"
     ]
    }
   ],
   "source": [
    "dict_eg_new = dict()\n",
    "\n",
    "def get_trainWord_new(inpList):\n",
    "    word=re.sub(r'[^a-zA-Z\\.]','',(str((inpList)).split(\"|\"))[0])\n",
    "    return word\n",
    "\n",
    "for each_entry in train_List:\n",
    "    w = get_trainWord_new(each_entry)\n",
    "    clean_entry = (clean_up(each_entry))\n",
    "    dict_eg_new[w] = clean_entry\n",
    "\n",
    "print dict_eg_new"
   ]
  },
  {
   "cell_type": "markdown",
   "metadata": {},
   "source": [
    "Combining all the 3 dictionaries:"
   ]
  },
  {
   "cell_type": "code",
   "execution_count": 252,
   "metadata": {},
   "outputs": [],
   "source": [
    "ndic = dict(dict_eg.items() + dict_eg_new.items() + dict_gloss.items())"
   ]
  },
  {
   "cell_type": "code",
   "execution_count": 249,
   "metadata": {},
   "outputs": [],
   "source": [
    "df_predict_validate_CL = pd.DataFrame(columns=('Given','Predicted'))"
   ]
  },
  {
   "cell_type": "markdown",
   "metadata": {},
   "source": [
    "Implementing Corpus Lesk on validation data using augmented dictionary:"
   ]
  },
  {
   "cell_type": "code",
   "execution_count": 263,
   "metadata": {},
   "outputs": [
    {
     "name": "stdout",
     "output_type": "stream",
     "text": [
      "            Given     Predicted\n",
      "0     capital.n.1   capital.n.0\n",
      "1     capital.n.1   capital.n.0\n",
      "2     capital.n.1   capital.n.0\n",
      "3     capital.n.1   capital.n.0\n",
      "4     capital.n.1   capital.n.0\n",
      "5     capital.n.1   capital.n.0\n",
      "6     capital.n.1   capital.n.0\n",
      "7     capital.n.1   capital.n.0\n",
      "8     capital.n.1   capital.n.0\n",
      "9     capital.n.1   capital.n.0\n",
      "10    capital.n.1   capital.n.0\n",
      "11   exchange.n.3  exchange.n.4\n",
      "12   exchange.n.3  exchange.n.0\n",
      "13   exchange.n.5  exchange.n.0\n",
      "14   exchange.n.3  exchange.n.0\n",
      "15   exchange.n.3  exchange.n.0\n",
      "16   exchange.n.3  exchange.n.0\n",
      "17   exchange.n.3  exchange.n.0\n",
      "18   exchange.n.3  exchange.n.0\n",
      "19   exchange.n.3  exchange.n.0\n",
      "20   exchange.n.1  exchange.n.0\n",
      "21   exchange.n.1  exchange.n.0\n",
      "22   exchange.n.5  exchange.n.0\n",
      "23     remove.v.1    remove.v.0\n",
      "24     remove.v.1    remove.v.0\n",
      "25     remove.v.1    remove.v.0\n",
      "26       feel.v.1      feel.v.0\n",
      "27       feel.v.3      feel.v.0\n",
      "28       feel.v.1      feel.v.0\n",
      "29       feel.v.1      feel.v.0\n",
      "..            ...           ...\n",
      "903     plant.n.1     plant.n.0\n",
      "904     plant.n.1     plant.n.0\n",
      "905     plant.n.1     plant.n.0\n",
      "906     plant.n.1     plant.n.0\n",
      "907     plant.n.1     plant.n.0\n",
      "908     plant.n.1     plant.n.0\n",
      "909     plant.n.1     plant.n.0\n",
      "910     plant.n.1     plant.n.0\n",
      "911     plant.n.1     plant.n.0\n",
      "912     plant.n.1     plant.n.0\n",
      "913     plant.n.1     plant.n.0\n",
      "914     plant.n.1     plant.n.0\n",
      "915      keep.v.1      keep.v.0\n",
      "916      keep.v.1      keep.v.0\n",
      "917      keep.v.1      keep.v.0\n",
      "918      keep.v.8      keep.v.0\n",
      "919      keep.v.1      keep.v.0\n",
      "920      keep.v.1      keep.v.0\n",
      "921      keep.v.1      keep.v.0\n",
      "922      keep.v.3      keep.v.0\n",
      "923      keep.v.1      keep.v.0\n",
      "924      keep.v.1      keep.v.0\n",
      "925      keep.v.5      keep.v.5\n",
      "926      keep.v.1      keep.v.0\n",
      "927      keep.v.1      keep.v.2\n",
      "928      keep.v.1      keep.v.0\n",
      "929      keep.v.4      keep.v.0\n",
      "930      keep.v.1      keep.v.0\n",
      "931  maintain.v.1  maintain.v.0\n",
      "932  maintain.v.1  maintain.v.0\n",
      "\n",
      "[933 rows x 2 columns]\n"
     ]
    }
   ],
   "source": [
    "cnt=0\n",
    "for each_entry in validate_List:\n",
    "    w,ws=get_trainWord(each_entry) \n",
    "    clean_entry=(clean_up(each_entry))\n",
    "    p=0\n",
    "    max_ov=0\n",
    "    given=w+\".\"+str(ws)\n",
    "    for i in range(0,len(ndic[w])):\n",
    "        ov= set(clean_up(ndic[w][i])).intersection(clean_entry)\n",
    "        nov=len(ov)\n",
    "        if nov > max_ov:\n",
    "            max_ov=nov\n",
    "            p=i\n",
    "    predicted=w+\".\"+str(p)\n",
    "    \n",
    "    #store in python data frame\n",
    "    df_predict_validate_CL.loc[cnt]=given,predicted\n",
    "    cnt+=1\n",
    "\n",
    "print df_predict_validate_CL"
   ]
  },
  {
   "cell_type": "code",
   "execution_count": 265,
   "metadata": {},
   "outputs": [],
   "source": [
    "df_predict_validate_CL.to_csv('OntologicalModel_ValidatePrediction_CorpusLesk.csv') # Exporting to csv"
   ]
  },
  {
   "cell_type": "markdown",
   "metadata": {},
   "source": [
    "Implementing Corpus Lesk on test data:"
   ]
  },
  {
   "cell_type": "code",
   "execution_count": 234,
   "metadata": {},
   "outputs": [
    {
     "name": "stdout",
     "output_type": "stream",
     "text": [
      "          0            1            2            3            4     \\\n",
      "0    capital.n    capital.n    capital.n    capital.n    capital.n   \n",
      "1  capital.n.1  capital.n.0  capital.n.1  capital.n.0  capital.n.0   \n",
      "\n",
      "          5            6            7            8            9     \\\n",
      "0    capital.n    capital.n    capital.n    capital.n    capital.n   \n",
      "1  capital.n.0  capital.n.0  capital.n.0  capital.n.0  capital.n.0   \n",
      "\n",
      "       ...           3908      3909          3910          3911          3912  \\\n",
      "0      ...         keep.v    keep.v    maintain.v    maintain.v    maintain.v   \n",
      "1      ...       keep.v.0  keep.v.3  maintain.v.1  maintain.v.0  maintain.v.0   \n",
      "\n",
      "           3913          3914          3915          3916          3917  \n",
      "0    maintain.v    maintain.v    maintain.v    maintain.v    maintain.v  \n",
      "1  maintain.v.3  maintain.v.2  maintain.v.0  maintain.v.0  maintain.v.0  \n",
      "\n",
      "[2 rows x 3918 columns]\n"
     ]
    }
   ],
   "source": [
    "df_test_predict_CL=pd.DataFrame(columns=())\n",
    "\n",
    "cnt=0\n",
    "for each_entry in test_List:\n",
    "    w,ws=get_trainWord(each_entry) \n",
    "    clean_entry=(clean_up(each_entry))\n",
    "    \n",
    "    p=0\n",
    "    max_ov=0\n",
    "    given=w\n",
    "    \n",
    "    if ndic[w] != \"\":\n",
    "        for i in range(0,len(ndic[w])):\n",
    "\n",
    "            ov= set(clean_up(ndic[w][i])).intersection(clean_entry)\n",
    "            nov=len(ov)\n",
    "            if nov > max_ov:\n",
    "                max_ov=nov\n",
    "                p=i\n",
    "        predicted=w+\".\"+str(p)\n",
    "\n",
    "        #store in python data frame\n",
    "        if (ndic[w]):\n",
    "            df_test_predict_CL[cnt]=given,predicted\n",
    "            cnt+=1\n",
    "        \n",
    "print df_test_predict_CL\n"
   ]
  },
  {
   "cell_type": "code",
   "execution_count": 235,
   "metadata": {},
   "outputs": [],
   "source": [
    "df_test_predict_CL.to_csv('OntologicalModel_TestPrediction_CorpusLesk.csv') # Export to csv"
   ]
  },
  {
   "cell_type": "markdown",
   "metadata": {},
   "source": [
    "Defining function to build consecutive words:"
   ]
  },
  {
   "cell_type": "code",
   "execution_count": null,
   "metadata": {},
   "outputs": [],
   "source": [
    "def find_bigrams(input_list):\n",
    "    return zip(input_list, input_list[1:])\n"
   ]
  },
  {
   "cell_type": "markdown",
   "metadata": {},
   "source": [
    "Defining clean up function for consecutive words:"
   ]
  },
  {
   "cell_type": "code",
   "execution_count": null,
   "metadata": {},
   "outputs": [],
   "source": [
    "def clean_up_new(inp):\n",
    "    clean_dt_new=[]\n",
    "    for f in str(inp).split(\" \"):\n",
    "        w=re.sub(r'[^a-zA-Z\\.\\%%]','', f)\n",
    "        w=w.lower()\n",
    "        if w not in stopwords:\n",
    "            if w != '':\n",
    "                w = porter.stem(w)\n",
    "                clean_dt_new.append(w)\n",
    "    clean_dt_new = find_bigrams(clean_dt_new)\n",
    "    return clean_dt_new"
   ]
  },
  {
   "cell_type": "code",
   "execution_count": 280,
   "metadata": {},
   "outputs": [
    {
     "name": "stdout",
     "output_type": "stream",
     "text": [
      "            Given     Predicted\n",
      "0     capital.n.1   capital.n.0\n",
      "1     capital.n.1   capital.n.0\n",
      "2     capital.n.1   capital.n.0\n",
      "3     capital.n.1   capital.n.0\n",
      "4     capital.n.1   capital.n.0\n",
      "5     capital.n.1   capital.n.0\n",
      "6     capital.n.1   capital.n.0\n",
      "7     capital.n.1   capital.n.0\n",
      "8     capital.n.1   capital.n.0\n",
      "9     capital.n.1   capital.n.0\n",
      "10    capital.n.1   capital.n.0\n",
      "11   exchange.n.3  exchange.n.0\n",
      "12   exchange.n.3  exchange.n.0\n",
      "13   exchange.n.5  exchange.n.0\n",
      "14   exchange.n.3  exchange.n.0\n",
      "15   exchange.n.3  exchange.n.0\n",
      "16   exchange.n.3  exchange.n.0\n",
      "17   exchange.n.3  exchange.n.0\n",
      "18   exchange.n.3  exchange.n.0\n",
      "19   exchange.n.3  exchange.n.0\n",
      "20   exchange.n.1  exchange.n.0\n",
      "21   exchange.n.1  exchange.n.0\n",
      "22   exchange.n.5  exchange.n.0\n",
      "23     remove.v.1    remove.v.0\n",
      "24     remove.v.1    remove.v.0\n",
      "25     remove.v.1    remove.v.0\n",
      "26       feel.v.1      feel.v.0\n",
      "27       feel.v.3      feel.v.0\n",
      "28       feel.v.1      feel.v.0\n",
      "29       feel.v.1      feel.v.0\n",
      "..            ...           ...\n",
      "903     plant.n.1     plant.n.0\n",
      "904     plant.n.1     plant.n.0\n",
      "905     plant.n.1     plant.n.0\n",
      "906     plant.n.1     plant.n.0\n",
      "907     plant.n.1     plant.n.0\n",
      "908     plant.n.1     plant.n.0\n",
      "909     plant.n.1     plant.n.0\n",
      "910     plant.n.1     plant.n.0\n",
      "911     plant.n.1     plant.n.0\n",
      "912     plant.n.1     plant.n.0\n",
      "913     plant.n.1     plant.n.0\n",
      "914     plant.n.1     plant.n.0\n",
      "915      keep.v.1      keep.v.0\n",
      "916      keep.v.1      keep.v.0\n",
      "917      keep.v.1      keep.v.0\n",
      "918      keep.v.8      keep.v.0\n",
      "919      keep.v.1      keep.v.0\n",
      "920      keep.v.1      keep.v.0\n",
      "921      keep.v.1      keep.v.0\n",
      "922      keep.v.3      keep.v.0\n",
      "923      keep.v.1      keep.v.0\n",
      "924      keep.v.1      keep.v.0\n",
      "925      keep.v.5      keep.v.0\n",
      "926      keep.v.1      keep.v.0\n",
      "927      keep.v.1      keep.v.0\n",
      "928      keep.v.1      keep.v.0\n",
      "929      keep.v.4      keep.v.0\n",
      "930      keep.v.1      keep.v.0\n",
      "931  maintain.v.1  maintain.v.0\n",
      "932  maintain.v.1  maintain.v.0\n",
      "\n",
      "[933 rows x 2 columns]\n"
     ]
    }
   ],
   "source": [
    "# nw_validate=validate\n",
    "# validate_List = [line.split('\\n') for line in nw_validate]\n",
    "\n",
    "df_o = pd.DataFrame(columns=('Given','Predicted'))\n",
    "\n",
    "cnt=0\n",
    "for each_entry in validate_List:\n",
    "    w,ws=get_trainWord(each_entry) \n",
    "    clean_entry=(clean_up_new(each_entry))\n",
    "    p=0\n",
    "    max_ov=0\n",
    "    given=w+\".\"+str(ws)\n",
    "    for i in range(0,len(dict_gloss[w])):\n",
    "        \n",
    "        \n",
    "        ov= set(find_bigrams(clean_up(dict_gloss[w][i]))).intersection(clean_entry)\n",
    "        #ov1=set(clean_up_new(dict_eg[w][i])).intersection(clean_entry)\n",
    "        nov=len(ov)\n",
    "        if nov > max_ov:\n",
    "            max_ov=nov\n",
    "            p=i\n",
    "    predicted=w+\".\"+str(p)\n",
    "    \n",
    "    #store in python data frame\n",
    "    df_o.loc[cnt]=given,predicted\n",
    "    cnt+=1\n",
    "\n",
    "print df_o"
   ]
  }
 ],
 "metadata": {
  "kernelspec": {
   "display_name": "Python 2",
   "language": "python",
   "name": "python2"
  },
  "language_info": {
   "codemirror_mode": {
    "name": "ipython",
    "version": 2
   },
   "file_extension": ".py",
   "mimetype": "text/x-python",
   "name": "python",
   "nbconvert_exporter": "python",
   "pygments_lexer": "ipython2",
   "version": "2.7.15"
  }
 },
 "nbformat": 4,
 "nbformat_minor": 2
}
